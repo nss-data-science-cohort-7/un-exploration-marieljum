{
 "cells": [
  {
   "cell_type": "markdown",
   "id": "4815b4a3",
   "metadata": {},
   "source": [
    "### Import packages "
   ]
  },
  {
   "cell_type": "code",
   "execution_count": 1,
   "id": "fa20279d",
   "metadata": {},
   "outputs": [],
   "source": [
    "import pandas as pd\n",
    "import numpy as np \n",
    "import matplotlib.pyplot as plt \n",
    "import seaborn as sns"
   ]
  },
  {
   "cell_type": "markdown",
   "id": "5b38f207",
   "metadata": {},
   "source": [
    "### 4. Using the pandas read_csv() function, read the GDP dataset into your notebook as a DataFrame called gdp_df. After reading it in, inspect the first 10 rows and then inspect the last 10 rows."
   ]
  },
  {
   "cell_type": "code",
   "execution_count": 2,
   "id": "f03016aa",
   "metadata": {},
   "outputs": [
    {
     "name": "stdout",
     "output_type": "stream",
     "text": [
      "  Country or Area  Year        Value  Value Footnotes\n",
      "0     Afghanistan  2020  1970.560169              NaN\n",
      "1     Afghanistan  2019  2065.036235              NaN\n",
      "2     Afghanistan  2018  2033.804389              NaN\n",
      "3     Afghanistan  2017  2058.400221              NaN\n",
      "4     Afghanistan  2016  2057.067978              NaN\n",
      "5     Afghanistan  2015  2068.265904              NaN\n",
      "6     Afghanistan  2014  2102.384604              NaN\n",
      "7     Afghanistan  2013  2116.465258              NaN\n",
      "8     Afghanistan  2012  2075.491614              NaN\n",
      "9     Afghanistan  2011  1904.559926              NaN\n",
      "     Country or Area  Year        Value  Value Footnotes\n",
      "7166        Zimbabwe  1999  2872.714795              NaN\n",
      "7167        Zimbabwe  1998  2915.052992              NaN\n",
      "7168        Zimbabwe  1997  2856.118188              NaN\n",
      "7169        Zimbabwe  1996  2808.558556              NaN\n",
      "7170        Zimbabwe  1995  2573.993785              NaN\n",
      "7171        Zimbabwe  1994  2603.927369              NaN\n",
      "7172        Zimbabwe  1993  2420.092791              NaN\n",
      "7173        Zimbabwe  1992  2437.152908              NaN\n",
      "7174        Zimbabwe  1991  2733.696626              NaN\n",
      "7175        Zimbabwe  1990  2652.129209              NaN\n"
     ]
    }
   ],
   "source": [
    "# read GDP dataset \n",
    "gdp_df = pd.read_csv(\"../data/gdp_per_capita.csv\")\n",
    "\n",
    "# inspect first 10 rows\n",
    "print(gdp_df.head(10))\n",
    "\n",
    "# inspect last 10 rows\n",
    "print(gdp_df.tail(10))"
   ]
  },
  {
   "cell_type": "markdown",
   "id": "2b6217e8",
   "metadata": {},
   "source": [
    "### 5. Drop the 'Value Footnotes' column, and rename the remaining columns to 'Country', 'Year', and 'GDP_Per_Capita'."
   ]
  },
  {
   "cell_type": "code",
   "execution_count": 3,
   "id": "0730f13a",
   "metadata": {},
   "outputs": [],
   "source": [
    "gdp_df = gdp_df.drop(columns=['Value Footnotes'])\n",
    "gdp_df = gdp_df.rename(columns={'Country or Area': 'Country', 'Year': 'Year', 'Value':'GDP_Per_Capita'})"
   ]
  },
  {
   "cell_type": "markdown",
   "id": "e6a77d38",
   "metadata": {},
   "source": [
    "### 6. How many rows and columns does gdp_df have? What are the data types of its columns? If any of the columns are not the expected types, figure out why and fix it.\n",
    "\n",
    "- 7176 rows \n",
    "- 3 columns \n",
    "- columns - indexes.base.Index"
   ]
  },
  {
   "cell_type": "code",
   "execution_count": 4,
   "id": "03def66e",
   "metadata": {
    "scrolled": false
   },
   "outputs": [
    {
     "name": "stdout",
     "output_type": "stream",
     "text": [
      "       Country  Year  GDP_Per_Capita\n",
      "0  Afghanistan  2020     1970.560169\n",
      "1  Afghanistan  2019     2065.036235\n",
      "2  Afghanistan  2018     2033.804389\n",
      "3  Afghanistan  2017     2058.400221\n",
      "4  Afghanistan  2016     2057.067978\n",
      "\n",
      "Rows:  7176\n",
      "Columns:  3\n",
      "<class 'pandas.core.indexes.range.RangeIndex'>\n",
      "<class 'pandas.core.indexes.base.Index'>\n"
     ]
    }
   ],
   "source": [
    "print(gdp_df.head())\n",
    "rows = len(gdp_df.axes[0])\n",
    "cols = len(gdp_df.axes[1])\n",
    "\n",
    "print(\"\\nRows: \", rows)\n",
    "print(\"Columns: \", cols)\n",
    "\n",
    "print(type(gdp_df.axes[0]))\n",
    "print(type(gdp_df.axes[1]))\n",
    "\n",
    "# If any of the columns are not the expected types, figure out why and fix it"
   ]
  },
  {
   "cell_type": "markdown",
   "id": "c99ca97c",
   "metadata": {},
   "source": [
    "### 7. Which years are represented in this dataset? Take a look at the number of observations per year. What do you notice?\n",
    "\n",
    "The dataset starts from year 2020 and ends at year 1990, and it appears that there's an interval of one year. But there are 7176 observations in the dataset. "
   ]
  },
  {
   "cell_type": "code",
   "execution_count": 5,
   "id": "1dcb09dc",
   "metadata": {},
   "outputs": [
    {
     "name": "stdout",
     "output_type": "stream",
     "text": [
      "0       2020\n",
      "1       2019\n",
      "2       2018\n",
      "3       2017\n",
      "4       2016\n",
      "        ... \n",
      "7171    1994\n",
      "7172    1993\n",
      "7173    1992\n",
      "7174    1991\n",
      "7175    1990\n",
      "Name: Year, Length: 7176, dtype: int64\n"
     ]
    }
   ],
   "source": [
    "print(gdp_df['Year'])"
   ]
  },
  {
   "cell_type": "markdown",
   "id": "b5c6fe27",
   "metadata": {},
   "source": [
    "### 8. How many countries are represented in this dataset? Which countries are least represented in the dataset? Why do you think these countries have so few observations?\n",
    "\n",
    "- Number of countries: 242\n",
    "- Least represented counties: Somalia and Djibouti with 8. They might have few observations because it is a third-world country with minimum resources or an unsafe government.  \n",
    "\n"
   ]
  },
  {
   "cell_type": "code",
   "execution_count": 6,
   "id": "2af6953a",
   "metadata": {},
   "outputs": [
    {
     "name": "stdout",
     "output_type": "stream",
     "text": [
      "Number of countries:  242\n",
      "\n",
      "Country counts:\n",
      "Least developed countries: UN classification    31\n",
      "Niger                                           31\n",
      "Middle East & North Africa (IDA & IBRD)         31\n",
      "Middle income                                   31\n",
      "Mongolia                                        31\n",
      "                                                ..\n",
      "Kosovo                                          13\n",
      "Turks and Caicos Islands                        10\n",
      "Sint Maarten (Dutch part)                       10\n",
      "Somalia                                          8\n",
      "Djibouti                                         8\n",
      "Name: Country, Length: 242, dtype: int64\n",
      "\n",
      "Least represented countries:\n",
      "Somalia     8\n",
      "Djibouti    8\n",
      "Name: Country, dtype: int64\n"
     ]
    }
   ],
   "source": [
    "# count how many countries are represented in dataset \n",
    "num_countries = len(gdp_df['Country'].unique())\n",
    "print(\"Number of countries: \", num_countries)\n",
    "\n",
    "# count occurrences of each country \n",
    "countries_count = gdp_df['Country'].value_counts()\n",
    "print(\"\\nCountry counts:\")\n",
    "print(countries_count)\n",
    "\n",
    "# count of least represented countries (min)\n",
    "countries_min = countries_count[countries_count == countries_count.min()]\n",
    "print(\"\\nLeast represented countries:\")\n",
    "print(countries_min)"
   ]
  },
  {
   "cell_type": "markdown",
   "id": "148784b2",
   "metadata": {},
   "source": [
    "### 9. Create a new dataframe by subsetting `gdp_df` to just the year 2014. Call this new dataframe `gdp_2014`"
   ]
  },
  {
   "cell_type": "code",
   "execution_count": 7,
   "id": "a525fe9e",
   "metadata": {},
   "outputs": [
    {
     "name": "stdout",
     "output_type": "stream",
     "text": [
      "                          Country  Year  GDP_Per_Capita\n",
      "6                     Afghanistan  2014     2102.384604\n",
      "25    Africa Eastern and Southern  2014     3677.319414\n",
      "56     Africa Western and Central  2014     4215.646000\n",
      "87                        Albania  2014    11586.833878\n",
      "118                       Algeria  2014    11512.690472\n",
      "...                           ...   ...             ...\n",
      "7031                      Vietnam  2014     7601.858491\n",
      "7062           West Bank and Gaza  2014     5967.073437\n",
      "7089                        World  2014    15224.439424\n",
      "7120                       Zambia  2014     3450.037600\n",
      "7151                     Zimbabwe  2014     2357.651166\n",
      "\n",
      "[242 rows x 3 columns]\n"
     ]
    }
   ],
   "source": [
    "gdp_2014 = gdp_df[gdp_df[\"Year\"] == 2014] ## integer so no quotation marks\n",
    "print(gdp_2014)"
   ]
  },
  {
   "cell_type": "markdown",
   "id": "87593496",
   "metadata": {},
   "source": [
    "### 10. Use .describe() to find the summary statistics for GDP per capita in 2014"
   ]
  },
  {
   "cell_type": "code",
   "execution_count": 8,
   "id": "9e10c698",
   "metadata": {},
   "outputs": [
    {
     "name": "stdout",
     "output_type": "stream",
     "text": [
      "Summary Statistics for GDP per capita in 2014:\n",
      "count       242.000000\n",
      "mean      19612.875611\n",
      "std       20961.714572\n",
      "min         822.611195\n",
      "25%        4702.212961\n",
      "50%       12178.874687\n",
      "75%       26461.384188\n",
      "max      155201.740571\n",
      "Name: GDP_Per_Capita, dtype: float64\n"
     ]
    }
   ],
   "source": [
    "# Use `.describe()` to find the summary statistics for GDP per capita in 2014.\n",
    "print('Summary Statistics for GDP per capita in 2014:')\n",
    "print(gdp_2014[\"GDP_Per_Capita\"].describe())"
   ]
  },
  {
   "cell_type": "markdown",
   "id": "d08ef84d",
   "metadata": {},
   "source": [
    "### 11. Create a histogram of GDP Per Capita numbers for 2014 (you may wish to adjust the number of bins for your histogram). How would you describe the shape of the distribution?"
   ]
  },
  {
   "cell_type": "code",
   "execution_count": 9,
   "id": "2e35f8c9",
   "metadata": {
    "scrolled": true
   },
   "outputs": [
    {
     "data": {
      "image/png": "[encoded data removed]",
      "text/plain": [
       "<Figure size 1000x700 with 1 Axes>"
      ]
     },
     "metadata": {},
     "output_type": "display_data"
    }
   ],
   "source": [
    "# create histogram plot\n",
    "hist, bins, _ = plt.hist(gdp_2014[\"GDP_Per_Capita\"], bins = 4, color = 'skyblue', edgecolor = 'black', range = (0, 160000), alpha = 0.8) #alpha = transparency\n",
    "plt.ylabel('Number of Counties')\n",
    "plt.xlabel('GDP Per Capita')\n",
    "plt.grid(True, linestyle='-.',alpha=0.5)\n",
    "\n",
    "# customize tick marks \n",
    "x_labels = [0, 40000,80000,120000,160000]\n",
    "plt.xticks(x_labels, labels = [0,'40K','80K','120K','160K'])\n",
    "\n",
    "# label the # of items in each bin \n",
    "for i in range(len(bins)-1): \n",
    "    plt.text(bins[i]+0.5,hist[i]+5, str(int(hist[i])), ha='left',va='top')\n",
    "    \n",
    "# change the size of histogram to fit bin labels\n",
    "plt.gcf().set_size_inches(10,7) # (Width, height), doesn't seem to have any changes\n",
    "\n",
    "plt.show()"
   ]
  },
  {
   "cell_type": "markdown",
   "id": "bf88662a",
   "metadata": {},
   "source": [
    "### 12. Find the top 5 countries and bottom 5 countries by GDP per capita in 2018"
   ]
  },
  {
   "cell_type": "code",
   "execution_count": 10,
   "id": "00dd4876",
   "metadata": {},
   "outputs": [
    {
     "name": "stdout",
     "output_type": "stream",
     "text": [
      "                          Country  Year  GDP_Per_Capita\n",
      "2                     Afghanistan  2018     2033.804389\n",
      "21    Africa Eastern and Southern  2018     3697.317275\n",
      "52     Africa Western and Central  2018     4132.592996\n",
      "83                        Albania  2018    13317.092313\n",
      "114                       Algeria  2018    11630.679409\n",
      "...                           ...   ...             ...\n",
      "7027                      Vietnam  2018     9548.700016\n",
      "7058           West Bank and Gaza  2018     6318.210068\n",
      "7085                        World  2018    16679.316815\n",
      "7116                       Zambia  2018     3521.545978\n",
      "7147                     Zimbabwe  2018     2497.136618\n",
      "\n",
      "[242 rows x 3 columns]\n",
      "\n",
      "Top 5 Countries by GDP per capita in 2018:\n",
      "               Country  Year  GDP_Per_Capita\n",
      "3915  Macao SAR, China  2018   132373.544079\n",
      "3884        Luxembourg  2018   115049.926079\n",
      "5722         Singapore  2018    98336.956494\n",
      "5383             Qatar  2018    90970.060902\n",
      "3073           Ireland  2018    83726.362961\n",
      "\n",
      "Bottom 5 Countries by GDP per capita in 2018:\n",
      "                       Country  Year  GDP_Per_Capita\n",
      "916                    Burundi  2018      761.524143\n",
      "1138  Central African Republic  2018      933.109951\n",
      "1526           Dem. Rep. Congo  2018     1085.893688\n",
      "5873                   Somalia  2018     1129.531464\n",
      "4752                     Niger  2018     1200.402348\n"
     ]
    }
   ],
   "source": [
    "# create new df called GDP_2018\n",
    "gdp_2018 = gdp_df[gdp_df[\"Year\"] == 2018]\n",
    "print(gdp_2018)\n",
    "\n",
    "# find top 5 countries \n",
    "top5_gdp2018 = gdp_2018.nlargest(5, \"GDP_Per_Capita\")\n",
    "print('\\nTop 5 Countries by GDP per capita in 2018:')\n",
    "print(top5_gdp2018)\n",
    "\n",
    "# find bottom 5 countries \n",
    "bottom5_gdp2018 = gdp_2018.nsmallest(5, \"GDP_Per_Capita\")\n",
    "print('\\nBottom 5 Countries by GDP per capita in 2018:')\n",
    "print(bottom5_gdp2018)"
   ]
  },
  {
   "cell_type": "markdown",
   "id": "f5821f67",
   "metadata": {},
   "source": [
    "### 13. Now, return to the full dataset, gdp_df. Pivot the data for 1990 and 2018 (using the pandas .pivot_table() method or another method) so that each row corresponds to a country, each column corresponds to a year, and the values in the table give the GDP_Per_Capita amount. Drop any rows that are missing values for either 1990 or 2018. Save the result to a dataframe named gdp_pivoted."
   ]
  },
  {
   "cell_type": "code",
   "execution_count": 11,
   "id": "28b81dda",
   "metadata": {},
   "outputs": [
    {
     "name": "stdout",
     "output_type": "stream",
     "text": [
      "                          Country  Year  GDP_Per_Capita\n",
      "2                     Afghanistan  2018     2033.804389\n",
      "21    Africa Eastern and Southern  2018     3697.317275\n",
      "49    Africa Eastern and Southern  1990     3083.976800\n",
      "52     Africa Western and Central  2018     4132.592996\n",
      "80     Africa Western and Central  1990     2810.341129\n",
      "...                           ...   ...             ...\n",
      "7113                        World  1990     9704.621768\n",
      "7116                       Zambia  2018     3521.545978\n",
      "7144                       Zambia  1990     2190.181724\n",
      "7147                     Zimbabwe  2018     2497.136618\n",
      "7175                     Zimbabwe  1990     2652.129209\n",
      "\n",
      "[448 rows x 3 columns]\n",
      "Year                                1990          2018\n",
      "Country                                               \n",
      "Africa Eastern and Southern  3083.976800   3697.317275\n",
      "Africa Western and Central   2810.341129   4132.592996\n",
      "Albania                      4827.034551  13317.092313\n",
      "Algeria                      8746.340762  11630.679409\n",
      "Angola                       5758.950488   6982.129420\n",
      "...                                  ...           ...\n",
      "Vanuatu                      2855.554643   3093.086718\n",
      "Vietnam                      2066.372215   9548.700016\n",
      "World                        9704.621768  16679.316815\n",
      "Zambia                       2190.181724   3521.545978\n",
      "Zimbabwe                     2652.129209   2497.136618\n",
      "\n",
      "[206 rows x 2 columns]\n"
     ]
    }
   ],
   "source": [
    "# filter the df for 1990 amd 2018 \n",
    "gdp_filter = gdp_df[gdp_df[\"Year\"].isin([1990, 2018])]\n",
    "print(gdp_filter)\n",
    "\n",
    "# pivot data so row=country, column=yr, values=GDP\n",
    "gdp_pivoted = gdp_filter.pivot_table(index='Country',columns='Year',values='GDP_Per_Capita') #index = rows\n",
    "\n",
    "# drop any missing rows \n",
    "gdp_pivoted = gdp_pivoted.dropna(subset=[1990, 2018])\n",
    "print(gdp_pivoted)"
   ]
  },
  {
   "cell_type": "markdown",
   "id": "6d420021",
   "metadata": {},
   "source": [
    "### 14. Create a new column in gdp_pivoted named Percent_Change. This column should contain the percent change in GDP_Per_Capita from 1990 to 2018. Hint: Percent change is calculated as 100*(New Value - Old Value) / Old Value."
   ]
  },
  {
   "cell_type": "code",
   "execution_count": 12,
   "id": "7773b44e",
   "metadata": {},
   "outputs": [],
   "source": [
    "# create new column in gdp_pivoted \n",
    "# gdp_pivoted = gdp_pivoted.reset_index()\n",
    "gdp_pivoted['Percent_Change'] = 100*(gdp_pivoted[2018]-gdp_pivoted[1990])/gdp_pivoted[1990]\n"
   ]
  },
  {
   "cell_type": "code",
   "execution_count": 13,
   "id": "39524fb4",
   "metadata": {},
   "outputs": [
    {
     "name": "stdout",
     "output_type": "stream",
     "text": [
      "Year                                1990          2018  Percent_Change\n",
      "Country                                                               \n",
      "Africa Eastern and Southern  3083.976800   3697.317275       19.887973\n",
      "Africa Western and Central   2810.341129   4132.592996       47.049515\n",
      "Albania                      4827.034551  13317.092313      175.885581\n",
      "Algeria                      8746.340762  11630.679409       32.977661\n",
      "Angola                       5758.950488   6982.129420       21.239615\n",
      "...                                  ...           ...             ...\n",
      "Vanuatu                      2855.554643   3093.086718        8.318247\n",
      "Vietnam                      2066.372215   9548.700016      362.099710\n",
      "World                        9704.621768  16679.316815       71.869829\n",
      "Zambia                       2190.181724   3521.545978       60.787844\n",
      "Zimbabwe                     2652.129209   2497.136618       -5.844081\n",
      "\n",
      "[206 rows x 3 columns]\n"
     ]
    }
   ],
   "source": [
    "print(gdp_pivoted)"
   ]
  },
  {
   "cell_type": "code",
   "execution_count": 14,
   "id": "435ff63b",
   "metadata": {},
   "outputs": [
    {
     "data": {
      "text/html": [
       "<div>\n",
       "<style scoped>\n",
       "    .dataframe tbody tr th:only-of-type {\n",
       "        vertical-align: middle;\n",
       "    }\n",
       "\n",
       "    .dataframe tbody tr th {\n",
       "        vertical-align: top;\n",
       "    }\n",
       "\n",
       "    .dataframe thead th {\n",
       "        text-align: right;\n",
       "    }\n",
       "</style>\n",
       "<table border=\"1\" class=\"dataframe\">\n",
       "  <thead>\n",
       "    <tr style=\"text-align: right;\">\n",
       "      <th>Year</th>\n",
       "      <th>1990</th>\n",
       "      <th>2018</th>\n",
       "      <th>Percent_Change</th>\n",
       "    </tr>\n",
       "    <tr>\n",
       "      <th>Country</th>\n",
       "      <th></th>\n",
       "      <th></th>\n",
       "      <th></th>\n",
       "    </tr>\n",
       "  </thead>\n",
       "  <tbody>\n",
       "    <tr>\n",
       "      <th>Africa Eastern and Southern</th>\n",
       "      <td>3083.976800</td>\n",
       "      <td>3697.317275</td>\n",
       "      <td>19.887973</td>\n",
       "    </tr>\n",
       "    <tr>\n",
       "      <th>Africa Western and Central</th>\n",
       "      <td>2810.341129</td>\n",
       "      <td>4132.592996</td>\n",
       "      <td>47.049515</td>\n",
       "    </tr>\n",
       "    <tr>\n",
       "      <th>Albania</th>\n",
       "      <td>4827.034551</td>\n",
       "      <td>13317.092313</td>\n",
       "      <td>175.885581</td>\n",
       "    </tr>\n",
       "    <tr>\n",
       "      <th>Algeria</th>\n",
       "      <td>8746.340762</td>\n",
       "      <td>11630.679409</td>\n",
       "      <td>32.977661</td>\n",
       "    </tr>\n",
       "    <tr>\n",
       "      <th>Angola</th>\n",
       "      <td>5758.950488</td>\n",
       "      <td>6982.129420</td>\n",
       "      <td>21.239615</td>\n",
       "    </tr>\n",
       "    <tr>\n",
       "      <th>...</th>\n",
       "      <td>...</td>\n",
       "      <td>...</td>\n",
       "      <td>...</td>\n",
       "    </tr>\n",
       "    <tr>\n",
       "      <th>Vanuatu</th>\n",
       "      <td>2855.554643</td>\n",
       "      <td>3093.086718</td>\n",
       "      <td>8.318247</td>\n",
       "    </tr>\n",
       "    <tr>\n",
       "      <th>Vietnam</th>\n",
       "      <td>2066.372215</td>\n",
       "      <td>9548.700016</td>\n",
       "      <td>362.099710</td>\n",
       "    </tr>\n",
       "    <tr>\n",
       "      <th>World</th>\n",
       "      <td>9704.621768</td>\n",
       "      <td>16679.316815</td>\n",
       "      <td>71.869829</td>\n",
       "    </tr>\n",
       "    <tr>\n",
       "      <th>Zambia</th>\n",
       "      <td>2190.181724</td>\n",
       "      <td>3521.545978</td>\n",
       "      <td>60.787844</td>\n",
       "    </tr>\n",
       "    <tr>\n",
       "      <th>Zimbabwe</th>\n",
       "      <td>2652.129209</td>\n",
       "      <td>2497.136618</td>\n",
       "      <td>-5.844081</td>\n",
       "    </tr>\n",
       "  </tbody>\n",
       "</table>\n",
       "<p>206 rows × 3 columns</p>\n",
       "</div>"
      ],
      "text/plain": [
       "Year                                1990          2018  Percent_Change\n",
       "Country                                                               \n",
       "Africa Eastern and Southern  3083.976800   3697.317275       19.887973\n",
       "Africa Western and Central   2810.341129   4132.592996       47.049515\n",
       "Albania                      4827.034551  13317.092313      175.885581\n",
       "Algeria                      8746.340762  11630.679409       32.977661\n",
       "Angola                       5758.950488   6982.129420       21.239615\n",
       "...                                  ...           ...             ...\n",
       "Vanuatu                      2855.554643   3093.086718        8.318247\n",
       "Vietnam                      2066.372215   9548.700016      362.099710\n",
       "World                        9704.621768  16679.316815       71.869829\n",
       "Zambia                       2190.181724   3521.545978       60.787844\n",
       "Zimbabwe                     2652.129209   2497.136618       -5.844081\n",
       "\n",
       "[206 rows x 3 columns]"
      ]
     },
     "execution_count": 14,
     "metadata": {},
     "output_type": "execute_result"
    }
   ],
   "source": [
    "gdp_pivoted"
   ]
  },
  {
   "cell_type": "markdown",
   "id": "4fda674b",
   "metadata": {},
   "source": [
    "### 15. How many countries experienced a negative percent change in GDP per capita from 1990 to 2018?"
   ]
  },
  {
   "cell_type": "code",
   "execution_count": 15,
   "id": "7b0984a8",
   "metadata": {},
   "outputs": [
    {
     "name": "stdout",
     "output_type": "stream",
     "text": [
      "Number of countries that experienced a negative percent change in GDP:\n",
      "17\n"
     ]
    }
   ],
   "source": [
    "neg_change = (gdp_pivoted['Percent_Change'] < 0).sum()\n",
    "print('Number of countries that experienced a negative percent change in GDP:')\n",
    "print(neg_change)\n",
    "\n",
    "# len(gdp_df['Country'].unique())"
   ]
  },
  {
   "cell_type": "markdown",
   "id": "2c11407c",
   "metadata": {},
   "source": [
    "### 16. Which country had the highest % change in GDP per capita? Create a line plot showing this country's GDP per capita for all years from 1990 to 2018. Create another showing the country with the second highest % change in GDP. How do the trends in these countries compare?\n",
    "Bonus: Put both line charts on the same plot."
   ]
  },
  {
   "cell_type": "code",
   "execution_count": 16,
   "id": "8e004fdd",
   "metadata": {},
   "outputs": [
    {
     "name": "stdout",
     "output_type": "stream",
     "text": [
      "\n",
      "Top 5 Countries with High Percent Change in GDP per capita:\n",
      "Year                      1990          2018  Percent_Change\n",
      "Country                                                     \n",
      "Equatorial Guinea  1039.985049  20386.013868     1860.221820\n",
      "China              1423.896348  15133.995618      962.857956\n",
      "                Country  Year  GDP_Per_Capita\n",
      "1875  Equatorial Guinea  2018    20386.013868\n",
      "1876  Equatorial Guinea  2017    22550.958161\n",
      "1877  Equatorial Guinea  2016    24827.032116\n",
      "1878  Equatorial Guinea  2015    28313.433159\n",
      "1879  Equatorial Guinea  2014    32436.553501\n",
      "1880  Equatorial Guinea  2013    33678.737836\n",
      "1881  Equatorial Guinea  2012    36671.357436\n",
      "1882  Equatorial Guinea  2011    35377.736492\n",
      "1883  Equatorial Guinea  2010    34732.219150\n",
      "1884  Equatorial Guinea  2009    39914.175309\n",
      "1885  Equatorial Guinea  2008    41249.486579\n",
      "1886  Equatorial Guinea  2007    36685.343353\n",
      "1887  Equatorial Guinea  2006    33330.890572\n",
      "1888  Equatorial Guinea  2005    32390.207436\n",
      "1889  Equatorial Guinea  2004    29004.186721\n",
      "1890  Equatorial Guinea  2003    21944.505663\n",
      "1891  Equatorial Guinea  2002    20084.343008\n",
      "1892  Equatorial Guinea  2001    17523.545157\n",
      "1893  Equatorial Guinea  2000    11176.518959\n",
      "1894  Equatorial Guinea  1999     9851.275584\n",
      "1895  Equatorial Guinea  1998     8165.994032\n",
      "1896  Equatorial Guinea  1997     6868.493172\n",
      "1897  Equatorial Guinea  1996     2857.502271\n",
      "1898  Equatorial Guinea  1995     1781.264878\n",
      "1899  Equatorial Guinea  1994     1572.062326\n",
      "1900  Equatorial Guinea  1993     1395.403468\n",
      "1901  Equatorial Guinea  1992     1299.925476\n",
      "1902  Equatorial Guinea  1991      996.878344\n",
      "1903  Equatorial Guinea  1990     1039.985049\n",
      "     Country  Year  GDP_Per_Capita\n",
      "1262   China  2018    15133.995618\n",
      "1263   China  2017    14243.532611\n",
      "1264   China  2016    13399.137320\n",
      "1265   China  2015    12612.351651\n",
      "1266   China  2014    11851.404218\n",
      "1267   China  2013    11101.938930\n",
      "1268   China  2012    10370.726572\n",
      "1269   China  2011     9680.097700\n",
      "1270   China  2010     8884.588031\n",
      "1271   China  2009     8069.354638\n",
      "1272   China  2008     7412.874363\n",
      "1273   China  2007     6795.174012\n",
      "1274   China  2006     5979.781712\n",
      "1275   China  2005     5334.646639\n",
      "1276   China  2004     4817.211845\n",
      "1277   China  2003     4400.825183\n",
      "1278   China  2002     4024.355697\n",
      "1279   China  2001     3712.338132\n",
      "1280   China  2000     3451.679231\n",
      "1281   China  1999     3206.730026\n",
      "1282   China  1998     3004.427342\n",
      "1283   China  1997     2812.711135\n",
      "1284   China  1996     2601.363426\n",
      "1285   China  1995     2391.477116\n",
      "1286   China  1994     2178.924057\n",
      "1287   China  1993     1949.534268\n",
      "1288   China  1992     1731.657215\n",
      "1289   China  1991     1534.705272\n",
      "1290   China  1990     1423.896348\n"
     ]
    },
    {
     "data": {
      "image/png": "[encoded data removed]",
      "text/plain": [
       "<Figure size 640x480 with 1 Axes>"
      ]
     },
     "metadata": {},
     "output_type": "display_data"
    }
   ],
   "source": [
    "# check for top 2 countries with high % change\n",
    "high_percentchange = gdp_pivoted.nlargest(2, \"Percent_Change\")\n",
    "print('\\nTop 5 Countries with High Percent Change in GDP per capita:')\n",
    "print(high_percentchange)\n",
    "\n",
    "# filter gdp_df for country #1 and years 1990-2018\n",
    "EG = gdp_df[(gdp_df['Country'] == 'Equatorial Guinea') &  (gdp_df['Year'] >= 1990) & (gdp_df['Year'] <= 2018)]\n",
    "print(EG)\n",
    "\n",
    "# filter country #2\n",
    "China = gdp_df[(gdp_df['Country'] == 'China') &  (gdp_df['Year'] >= 1990) & (gdp_df['Year'] <= 2018)]\n",
    "print(China)\n",
    "\n",
    "# create line plot for EG \n",
    "plt.plot(EG['Year'],EG['GDP_Per_Capita'], marker='o', linestyle='-',label='Equatorial Guinea')\n",
    "plt.show\n",
    "\n",
    "# create line plot for China \n",
    "plt.plot(China['Year'],China['GDP_Per_Capita'], marker='o', linestyle='-',label='China')\n",
    "plt.show\n",
    "\n",
    "# customize line plot\n",
    "plt.title('GDP per Capita Comparison (1990-2018)')\n",
    "plt.xlabel('Year')\n",
    "plt.ylabel('GDP per Capita')\n",
    "plt.grid(True, linestyle='-.', alpha = 0.5)\n",
    "plt.legend()\n",
    "plt.show()"
   ]
  },
  {
   "cell_type": "markdown",
   "id": "65913c2f",
   "metadata": {},
   "source": [
    "### 17. Read in continents.csv contained in the data folder into a new dataframe called continents. We will be using this dataframe to add a new column to our dataset."
   ]
  },
  {
   "cell_type": "code",
   "execution_count": 17,
   "id": "ce36baa6",
   "metadata": {},
   "outputs": [
    {
     "name": "stdout",
     "output_type": "stream",
     "text": [
      "    Continent             Country\n",
      "0        Asia         Afghanistan\n",
      "1      Europe             Albania\n",
      "2      Africa             Algeria\n",
      "3      Europe             Andorra\n",
      "4      Africa              Angola\n",
      "..        ...                 ...\n",
      "211      Asia             Vietnam\n",
      "212      Asia  West Bank and Gaza\n",
      "213      Asia               Yemen\n",
      "214    Africa              Zambia\n",
      "215    Africa            Zimbabwe\n",
      "\n",
      "[216 rows x 2 columns]\n"
     ]
    }
   ],
   "source": [
    "continents = pd.read_csv(\"../data/continents.csv\")\n",
    "print(continents)"
   ]
  },
  {
   "cell_type": "markdown",
   "id": "c7f130ad",
   "metadata": {},
   "source": [
    "### 18. Merge gdp_df and continents. Keep only the countries that appear in both data frames. Save the result back to gdp_df."
   ]
  },
  {
   "cell_type": "code",
   "execution_count": 18,
   "id": "28b57e33",
   "metadata": {},
   "outputs": [
    {
     "name": "stdout",
     "output_type": "stream",
     "text": [
      "          Country  Year  GDP_Per_Capita Continent\n",
      "0     Afghanistan  2020     1970.560169      Asia\n",
      "1     Afghanistan  2019     2065.036235      Asia\n",
      "2     Afghanistan  2018     2033.804389      Asia\n",
      "3     Afghanistan  2017     2058.400221      Asia\n",
      "4     Afghanistan  2016     2057.067978      Asia\n",
      "...           ...   ...             ...       ...\n",
      "5577     Zimbabwe  1994     2603.927369    Africa\n",
      "5578     Zimbabwe  1993     2420.092791    Africa\n",
      "5579     Zimbabwe  1992     2437.152908    Africa\n",
      "5580     Zimbabwe  1991     2733.696626    Africa\n",
      "5581     Zimbabwe  1990     2652.129209    Africa\n",
      "\n",
      "[5582 rows x 4 columns]\n"
     ]
    }
   ],
   "source": [
    "# merge gdp_df and continents, keep only the countries that appear in both data frames\n",
    "gdp_df = gdp_df.merge(continents, on='Country', how='inner')\n",
    "print(gdp_df)"
   ]
  },
  {
   "cell_type": "markdown",
   "id": "fbce6f87",
   "metadata": {},
   "source": [
    "### 19. Determine the number of countries per continent. Create a bar chart showing this."
   ]
  },
  {
   "cell_type": "code",
   "execution_count": 19,
   "id": "5f2cc51d",
   "metadata": {},
   "outputs": [
    {
     "name": "stdout",
     "output_type": "stream",
     "text": [
      "Number of countries per continent:  Continent\n",
      "Africa           50\n",
      "Asia             42\n",
      "Europe           45\n",
      "North America    26\n",
      "Oceania          14\n",
      "South America    11\n",
      "Name: Country, dtype: int64\n"
     ]
    },
    {
     "data": {
      "image/png": "[encoded data removed]",
      "text/plain": [
       "<Figure size 1000x600 with 1 Axes>"
      ]
     },
     "metadata": {},
     "output_type": "display_data"
    }
   ],
   "source": [
    "# count # of countries per continent \n",
    "countries_per_continent = gdp_df.groupby(\"Continent\")[\"Country\"].nunique()\n",
    "# countries_per_continent = gdp_df.groupby(\"Continent\")[\"Country\"].count\n",
    "print(\"Number of countries per continent: \", countries_per_continent)\n",
    "\n",
    "# create a bar chart\n",
    "plt.figure(figsize=(10, 6))\n",
    "countries_per_continent.plot(kind=\"bar\", title= \"Countries per Continent\", ylabel= \"Count\", rot= 45 )\n",
    "plt.show()\n"
   ]
  },
  {
   "cell_type": "markdown",
   "id": "cdd140fc",
   "metadata": {},
   "source": [
    "### 20. Create a seaborn boxplot showing GDP per capita in 2018 split out by continent. What do you notice?"
   ]
  },
  {
   "cell_type": "code",
   "execution_count": 20,
   "id": "5c7d9a3c",
   "metadata": {},
   "outputs": [
    {
     "name": "stdout",
     "output_type": "stream",
     "text": [
      "                  Country  Year  GDP_Per_Capita      Continent\n",
      "2             Afghanistan  2018     2033.804389           Asia\n",
      "21                Albania  2018    13317.092313         Europe\n",
      "52                Algeria  2018    11630.679409         Africa\n",
      "83                 Angola  2018     6982.129420         Africa\n",
      "114   Antigua and Barbuda  2018    21017.264500  North America\n",
      "...                   ...   ...             ...            ...\n",
      "5433              Vanuatu  2018     3093.086718        Oceania\n",
      "5464              Vietnam  2018     9548.700016           Asia\n",
      "5495   West Bank and Gaza  2018     6318.210068           Asia\n",
      "5522               Zambia  2018     3521.545978         Africa\n",
      "5553             Zimbabwe  2018     2497.136618         Africa\n",
      "\n",
      "[188 rows x 4 columns]\n"
     ]
    },
    {
     "data": {
      "image/png": "[encoded data removed]",
      "text/plain": [
       "<Figure size 1000x600 with 1 Axes>"
      ]
     },
     "metadata": {},
     "output_type": "display_data"
    }
   ],
   "source": [
    "# filter data to year 2018\n",
    "gdp_2018 = gdp_df[gdp_df['Year'] == 2018]\n",
    "print(gdp_2018)\n",
    "\n",
    "# create a boxplot using Seaborn \n",
    "plt.figure(figsize=(10, 6))\n",
    "sns.boxplot(x='Continent', y='GDP_Per_Capita', data=gdp_2018)\n",
    "plt.title('GDP per Capita in 2018 by Continent')\n",
    "plt.xlabel('Continent')\n",
    "plt.ylabel('GDP per Capita')\n",
    "plt.xticks(rotation=45)  # Rotate x-axis labels for readability\n",
    "plt.show()"
   ]
  },
  {
   "cell_type": "code",
   "execution_count": 21,
   "id": "afb34268",
   "metadata": {},
   "outputs": [],
   "source": [
    "# check on box plot chart \n",
    "\n",
    "# Africa_2018 = gdp_df[(gdp_df['Continent'] == 'Africa') & (gdp_df['Year'] == 2018)]\n",
    "# Sort africa_2018 by GDP_Per_Capita in ascending order\n",
    "# africa_2018_sorted = Africa_2018.sort_values(by='GDP_Per_Capita', ascending=True)\n",
    "\n",
    "# Print the sorted DataFrame\n",
    "# print(africa_2018_sorted)\n"
   ]
  },
  {
   "cell_type": "markdown",
   "id": "25add95d",
   "metadata": {},
   "source": [
    "### 21. Download the full csv containing Life expectancy at birth, total (years) from https://data.worldbank.org/indicator/SP.DYN.LE00.IN?name_desc=false. Read this data into a DataFrame named life_expectancy. Note: When reading this dataset it, you may encounter an error. Modify your read_csv call to correct this without modifying the original csv file."
   ]
  },
  {
   "cell_type": "code",
   "execution_count": 22,
   "id": "4cdfa097",
   "metadata": {},
   "outputs": [
    {
     "name": "stdout",
     "output_type": "stream",
     "text": [
      "                    Country Name Country Code  \\\n",
      "0                          Aruba          ABW   \n",
      "1    Africa Eastern and Southern          AFE   \n",
      "2                    Afghanistan          AFG   \n",
      "3     Africa Western and Central          AFW   \n",
      "4                         Angola          AGO   \n",
      "..                           ...          ...   \n",
      "261                       Kosovo          XKX   \n",
      "262                  Yemen, Rep.          YEM   \n",
      "263                 South Africa          ZAF   \n",
      "264                       Zambia          ZMB   \n",
      "265                     Zimbabwe          ZWE   \n",
      "\n",
      "                              Indicator Name  Indicator Code       1960  \\\n",
      "0    Life expectancy at birth, total (years)  SP.DYN.LE00.IN  64.152000   \n",
      "1    Life expectancy at birth, total (years)  SP.DYN.LE00.IN  44.085552   \n",
      "2    Life expectancy at birth, total (years)  SP.DYN.LE00.IN  32.535000   \n",
      "3    Life expectancy at birth, total (years)  SP.DYN.LE00.IN  37.845152   \n",
      "4    Life expectancy at birth, total (years)  SP.DYN.LE00.IN  38.211000   \n",
      "..                                       ...             ...        ...   \n",
      "261  Life expectancy at birth, total (years)  SP.DYN.LE00.IN  61.485000   \n",
      "262  Life expectancy at birth, total (years)  SP.DYN.LE00.IN  33.678000   \n",
      "263  Life expectancy at birth, total (years)  SP.DYN.LE00.IN  52.669000   \n",
      "264  Life expectancy at birth, total (years)  SP.DYN.LE00.IN  49.042000   \n",
      "265  Life expectancy at birth, total (years)  SP.DYN.LE00.IN  53.235000   \n",
      "\n",
      "          1961       1962       1963       1964       1965  ...       2014  \\\n",
      "0    64.537000  64.752000  65.132000  65.294000  65.502000  ...  75.601000   \n",
      "1    44.386697  44.752182  44.913159  45.479043  45.498338  ...  61.337917   \n",
      "2    33.068000  33.547000  34.016000  34.494000  34.953000  ...  62.545000   \n",
      "3    38.164950  38.735102  39.063715  39.335360  39.618038  ...  55.922229   \n",
      "4    37.267000  37.539000  37.824000  38.131000  38.495000  ...  60.040000   \n",
      "..         ...        ...        ...        ...        ...  ...        ...   \n",
      "261  61.836000  62.134000  62.440000  62.734000  63.041000  ...  78.880000   \n",
      "262  34.098000  33.615000  33.247000  34.738000  35.373000  ...  67.384000   \n",
      "263  53.085000  53.376000  53.633000  53.906000  54.192000  ...  63.380000   \n",
      "264  49.452000  49.794000  50.133000  49.849000  50.563000  ...  60.699000   \n",
      "265  53.619000  54.071000  54.549000  54.994000  55.459000  ...  58.846000   \n",
      "\n",
      "          2015       2016       2017       2018       2019       2020  \\\n",
      "0    75.683000  75.617000  75.903000  76.072000  76.248000  75.723000   \n",
      "1    61.856458  62.444050  62.922390  63.365863  63.755678  63.313860   \n",
      "2    62.659000  63.136000  63.016000  63.081000  63.565000  62.575000   \n",
      "3    56.195872  56.581678  56.888446  57.189139  57.555796  57.226373   \n",
      "4    60.655000  61.092000  61.680000  62.144000  62.448000  62.261000   \n",
      "..         ...        ...        ...        ...        ...        ...   \n",
      "261  78.922000  78.981000  78.783000  78.696000  79.022000  76.567000   \n",
      "262  65.873000  66.064000  65.957000  64.575000  65.092000  64.650000   \n",
      "263  63.950000  64.747000  65.402000  65.674000  66.175000  65.252000   \n",
      "264  61.208000  61.794000  62.120000  62.342000  62.793000  62.380000   \n",
      "265  59.591000  60.306000  60.709000  61.414000  61.292000  61.124000   \n",
      "\n",
      "          2021  2022  Unnamed: 67  \n",
      "0    74.626000   NaN          NaN  \n",
      "1    62.454590   NaN          NaN  \n",
      "2    61.982000   NaN          NaN  \n",
      "3    56.988657   NaN          NaN  \n",
      "4    61.643000   NaN          NaN  \n",
      "..         ...   ...          ...  \n",
      "261  76.806000   NaN          NaN  \n",
      "262  63.753000   NaN          NaN  \n",
      "263  62.341000   NaN          NaN  \n",
      "264  61.223000   NaN          NaN  \n",
      "265  59.253000   NaN          NaN  \n",
      "\n",
      "[266 rows x 68 columns]\n"
     ]
    }
   ],
   "source": [
    "# read Life Expectancy dataset into df life_expectancy \n",
    "life_expectancy = pd.read_csv(\"../data/API_SP.DYN.LE00.IN_DS2_en_csv_v2_5871609.csv\", skiprows = 4)\n",
    "print(life_expectancy)"
   ]
  },
  {
   "cell_type": "markdown",
   "id": "bbeda02d",
   "metadata": {},
   "source": [
    "### 22. Drop the Country Code, Indicator Name, and Indicator Code columns. Then use .melt() to convert your data from wide to long. That is, instead of having one row per country and multiple colums per year, we want to have multiple rows per country and a single column for year. After melting, rename the columns to Country, Year, and Life_Expectancy."
   ]
  },
  {
   "cell_type": "code",
   "execution_count": 23,
   "id": "ef7510d8",
   "metadata": {},
   "outputs": [
    {
     "name": "stdout",
     "output_type": "stream",
     "text": [
      "                    Country Name       1960       1961       1962       1963  \\\n",
      "0                          Aruba  64.152000  64.537000  64.752000  65.132000   \n",
      "1    Africa Eastern and Southern  44.085552  44.386697  44.752182  44.913159   \n",
      "2                    Afghanistan  32.535000  33.068000  33.547000  34.016000   \n",
      "3     Africa Western and Central  37.845152  38.164950  38.735102  39.063715   \n",
      "4                         Angola  38.211000  37.267000  37.539000  37.824000   \n",
      "..                           ...        ...        ...        ...        ...   \n",
      "261                       Kosovo  61.485000  61.836000  62.134000  62.440000   \n",
      "262                  Yemen, Rep.  33.678000  34.098000  33.615000  33.247000   \n",
      "263                 South Africa  52.669000  53.085000  53.376000  53.633000   \n",
      "264                       Zambia  49.042000  49.452000  49.794000  50.133000   \n",
      "265                     Zimbabwe  53.235000  53.619000  54.071000  54.549000   \n",
      "\n",
      "          1964       1965       1966       1967       1968  ...       2014  \\\n",
      "0    65.294000  65.502000  66.063000  66.439000  66.757000  ...  75.601000   \n",
      "1    45.479043  45.498338  45.249105  45.924905  46.223097  ...  61.337917   \n",
      "2    34.494000  34.953000  35.453000  35.924000  36.418000  ...  62.545000   \n",
      "3    39.335360  39.618038  39.837827  39.471500  40.085679  ...  55.922229   \n",
      "4    38.131000  38.495000  38.757000  39.092000  39.484000  ...  60.040000   \n",
      "..         ...        ...        ...        ...        ...  ...        ...   \n",
      "261  62.734000  63.041000  63.323000  63.653000  63.935000  ...  78.880000   \n",
      "262  34.738000  35.373000  36.097000  36.866000  37.796000  ...  67.384000   \n",
      "263  53.906000  54.192000  54.391000  54.626000  54.876000  ...  63.380000   \n",
      "264  49.849000  50.563000  50.679000  50.802000  50.856000  ...  60.699000   \n",
      "265  54.994000  55.459000  55.889000  56.188000  56.455000  ...  58.846000   \n",
      "\n",
      "          2015       2016       2017       2018       2019       2020  \\\n",
      "0    75.683000  75.617000  75.903000  76.072000  76.248000  75.723000   \n",
      "1    61.856458  62.444050  62.922390  63.365863  63.755678  63.313860   \n",
      "2    62.659000  63.136000  63.016000  63.081000  63.565000  62.575000   \n",
      "3    56.195872  56.581678  56.888446  57.189139  57.555796  57.226373   \n",
      "4    60.655000  61.092000  61.680000  62.144000  62.448000  62.261000   \n",
      "..         ...        ...        ...        ...        ...        ...   \n",
      "261  78.922000  78.981000  78.783000  78.696000  79.022000  76.567000   \n",
      "262  65.873000  66.064000  65.957000  64.575000  65.092000  64.650000   \n",
      "263  63.950000  64.747000  65.402000  65.674000  66.175000  65.252000   \n",
      "264  61.208000  61.794000  62.120000  62.342000  62.793000  62.380000   \n",
      "265  59.591000  60.306000  60.709000  61.414000  61.292000  61.124000   \n",
      "\n",
      "          2021  2022  Unnamed: 67  \n",
      "0    74.626000   NaN          NaN  \n",
      "1    62.454590   NaN          NaN  \n",
      "2    61.982000   NaN          NaN  \n",
      "3    56.988657   NaN          NaN  \n",
      "4    61.643000   NaN          NaN  \n",
      "..         ...   ...          ...  \n",
      "261  76.806000   NaN          NaN  \n",
      "262  63.753000   NaN          NaN  \n",
      "263  62.341000   NaN          NaN  \n",
      "264  61.223000   NaN          NaN  \n",
      "265  59.253000   NaN          NaN  \n",
      "\n",
      "[266 rows x 65 columns]\n"
     ]
    }
   ],
   "source": [
    "# drop the country code, indicator name, and indicator code columns \n",
    "life_expectancy = life_expectancy.drop(columns=['Country Code', 'Indicator Name', 'Indicator Code'])\n",
    "print(life_expectancy)"
   ]
  },
  {
   "cell_type": "code",
   "execution_count": 24,
   "id": "06c8c2c1",
   "metadata": {},
   "outputs": [
    {
     "name": "stdout",
     "output_type": "stream",
     "text": [
      "                           Country         Year  Life_Expectancy\n",
      "0                            Aruba         1960        64.152000\n",
      "1      Africa Eastern and Southern         1960        44.085552\n",
      "2                      Afghanistan         1960        32.535000\n",
      "3       Africa Western and Central         1960        37.845152\n",
      "4                           Angola         1960        38.211000\n",
      "...                            ...          ...              ...\n",
      "17019                       Kosovo  Unnamed: 67              NaN\n",
      "17020                  Yemen, Rep.  Unnamed: 67              NaN\n",
      "17021                 South Africa  Unnamed: 67              NaN\n",
      "17022                       Zambia  Unnamed: 67              NaN\n",
      "17023                     Zimbabwe  Unnamed: 67              NaN\n",
      "\n",
      "[17024 rows x 3 columns]\n"
     ]
    }
   ],
   "source": [
    "# convert data from wide to long \n",
    "life_expectancy = life_expectancy.melt(id_vars=['Country Name'], var_name='Year', value_name='Life_Expectancy')\n",
    "\n",
    "# rename Country Name columns to just Country \n",
    "life_expectancy = life_expectancy.rename(columns = {'Country Name': 'Country'})\n",
    "print(life_expectancy)"
   ]
  },
  {
   "cell_type": "markdown",
   "id": "4bc974ef",
   "metadata": {},
   "source": [
    "### 23. What was the first country with a life expectancy to exceed 80?\n",
    "Japan in 1996 with a life expectancy of 80.21"
   ]
  },
  {
   "cell_type": "code",
   "execution_count": 25,
   "id": "eb1f2ab4",
   "metadata": {},
   "outputs": [
    {
     "name": "stdout",
     "output_type": "stream",
     "text": [
      "Criteria Search Using Basic Method:\n",
      "                     Country  Year  Life_Expectancy\n",
      "9695                   Japan  1996        80.219756\n",
      "9926               Gibraltar  1997        80.343000\n",
      "9938    Hong Kong SAR, China  1997        80.126829\n",
      "9961                   Japan  1997        80.424146\n",
      "9988        Macao SAR, China  1997        80.162000\n",
      "...                      ...   ...              ...\n",
      "16420               Portugal  2021        81.073171\n",
      "16434              Singapore  2021        83.441463\n",
      "16448               Slovenia  2021        80.875610\n",
      "16449                 Sweden  2021        83.156098\n",
      "16482  Virgin Islands (U.S.)  2021        80.068293\n",
      "\n",
      "[653 rows x 3 columns]\n",
      "------\n",
      "\n",
      "Criteria Search Using Loc Method:\n",
      "                     Country  Year  Life_Expectancy\n",
      "9695                   Japan  1996        80.219756\n",
      "9926               Gibraltar  1997        80.343000\n",
      "9938    Hong Kong SAR, China  1997        80.126829\n",
      "9961                   Japan  1997        80.424146\n",
      "9988        Macao SAR, China  1997        80.162000\n",
      "...                      ...   ...              ...\n",
      "16420               Portugal  2021        81.073171\n",
      "16434              Singapore  2021        83.441463\n",
      "16448               Slovenia  2021        80.875610\n",
      "16449                 Sweden  2021        83.156098\n",
      "16482  Virgin Islands (U.S.)  2021        80.068293\n",
      "\n",
      "[653 rows x 3 columns]\n"
     ]
    }
   ],
   "source": [
    "# basic method \n",
    "print('Criteria Search Using Basic Method:')\n",
    "print(life_expectancy[life_expectancy['Life_Expectancy'] > 80]) \n",
    "print('------')\n",
    "# loc method\n",
    "print('\\nCriteria Search Using Loc Method:')\n",
    "print(life_expectancy.loc[life_expectancy['Life_Expectancy'] > 80]) "
   ]
  },
  {
   "cell_type": "markdown",
   "id": "7ab38a1d",
   "metadata": {},
   "source": [
    "### 24. Merge gdp_df and life_expectancy, keeping all countries and years that appear in both DataFrames. Save the result to a new DataFrame named gdp_le. If you get any errors in doing this, read them carefully and correct them. Look at the first five rows of your new data frame to confirm it merged correctly. Also, check the last five rows to make sure the data is clean and as expected."
   ]
  },
  {
   "cell_type": "code",
   "execution_count": 26,
   "id": "16c0a666",
   "metadata": {},
   "outputs": [],
   "source": [
    "# merge gdp_df and life_expectancy\n",
    "# gdp_le = gdp_df.merge(life_expectancy, on=['Country','Year'], how='inner')\n",
    "# error msg: You are trying to merge on int64 and object columns. If you wish to proceed you should use pd.concat"
   ]
  },
  {
   "cell_type": "code",
   "execution_count": 27,
   "id": "a477956e",
   "metadata": {},
   "outputs": [
    {
     "name": "stdout",
     "output_type": "stream",
     "text": [
      "object\n",
      "int64\n",
      "object\n",
      "object\n"
     ]
    }
   ],
   "source": [
    "# check data types \n",
    "print(gdp_df.Country.dtype)\n",
    "print(gdp_df.Year.dtype)\n",
    "print(life_expectancy.Country.dtype)\n",
    "print(life_expectancy.Year.dtype)"
   ]
  },
  {
   "cell_type": "code",
   "execution_count": 28,
   "id": "43a5094d",
   "metadata": {},
   "outputs": [
    {
     "name": "stdout",
     "output_type": "stream",
     "text": [
      "object\n",
      "object\n",
      "object\n",
      "object\n",
      "-------\n",
      "\n",
      "Merged DataFrame:\n",
      "          Country  Year  GDP_Per_Capita Continent  Life_Expectancy\n",
      "0     Afghanistan  2020     1970.560169      Asia           62.575\n",
      "1     Afghanistan  2019     2065.036235      Asia           63.565\n",
      "2     Afghanistan  2018     2033.804389      Asia           63.081\n",
      "3     Afghanistan  2017     2058.400221      Asia           63.016\n",
      "4     Afghanistan  2016     2057.067978      Asia           63.136\n",
      "...           ...   ...             ...       ...              ...\n",
      "5236     Zimbabwe  1994     2603.927369    Africa           52.588\n",
      "5237     Zimbabwe  1993     2420.092791    Africa           54.426\n",
      "5238     Zimbabwe  1992     2437.152908    Africa           56.435\n",
      "5239     Zimbabwe  1991     2733.696626    Africa           58.091\n",
      "5240     Zimbabwe  1990     2652.129209    Africa           59.426\n",
      "\n",
      "[5241 rows x 5 columns]\n"
     ]
    }
   ],
   "source": [
    "# change data type for Year column in gd_df \n",
    "gdp_df['Year'] = gdp_df['Year'].astype(str)\n",
    "\n",
    "# recheck data types \n",
    "print(gdp_df.Country.dtype)\n",
    "print(gdp_df.Year.dtype)\n",
    "print(life_expectancy.Country.dtype)\n",
    "print(life_expectancy.Year.dtype)\n",
    "print('-------')\n",
    "\n",
    "# merge gdp_df and life_expectancy\n",
    "gdp_le = gdp_df.merge(life_expectancy, on=['Country','Year'], how='inner')\n",
    "print('\\nMerged DataFrame:')\n",
    "print(gdp_le)"
   ]
  },
  {
   "cell_type": "markdown",
   "id": "266f62fe",
   "metadata": {},
   "source": [
    "### 25. Create a new DataFrame, named gdp_le_2019 by extracting data for the year 2019 from gdp_le. How many countries have a life expectancy of at least 80 in 2019?"
   ]
  },
  {
   "cell_type": "code",
   "execution_count": 29,
   "id": "d23f5851",
   "metadata": {},
   "outputs": [
    {
     "name": "stdout",
     "output_type": "stream",
     "text": [
      "                  Country  Year  GDP_Per_Capita      Continent  \\\n",
      "1             Afghanistan  2019     2065.036235           Asia   \n",
      "20                Albania  2019    13653.201570         Europe   \n",
      "51                Algeria  2019    11521.984210         Africa   \n",
      "82                 Angola  2019     6712.021615         Africa   \n",
      "113   Antigua and Barbuda  2019    21850.133412  North America   \n",
      "...                   ...   ...             ...            ...   \n",
      "5091              Vanuatu  2019     3116.594618        Oceania   \n",
      "5122              Vietnam  2019    10134.259028           Asia   \n",
      "5153   West Bank and Gaza  2019     6245.448697           Asia   \n",
      "5180               Zambia  2019     3470.435511         Africa   \n",
      "5211             Zimbabwe  2019     2310.634802         Africa   \n",
      "\n",
      "      Life_Expectancy  \n",
      "1              63.565  \n",
      "20             79.282  \n",
      "51             76.474  \n",
      "82             62.448  \n",
      "113            78.691  \n",
      "...               ...  \n",
      "5091           69.877  \n",
      "5122           74.093  \n",
      "5153           75.241  \n",
      "5180           62.793  \n",
      "5211           61.292  \n",
      "\n",
      "[177 rows x 5 columns]\n"
     ]
    }
   ],
   "source": [
    "# create gdp_le\n",
    "gdp_le_2019 = gdp_le[gdp_le['Year'] == '2019']\n",
    "print(gdp_le_2019)"
   ]
  },
  {
   "cell_type": "code",
   "execution_count": 30,
   "id": "f4a1d9a4",
   "metadata": {},
   "outputs": [
    {
     "name": "stdout",
     "output_type": "stream",
     "text": [
      "Amount of countries with a life expectancy of at least 80 in 2019:\n",
      "34\n",
      "\n",
      "List of countries:\n",
      "                   Country  Life_Expectancy\n",
      "237              Australia        82.900000\n",
      "268                Austria        81.895122\n",
      "330                Bahrain        80.019000\n",
      "454                Belgium        81.995122\n",
      "547                Bermuda        81.033000\n",
      "912                 Canada        82.228780\n",
      "1013                 Chile        80.326000\n",
      "1194                Cyprus        81.397000\n",
      "1225               Denmark        81.451220\n",
      "1538               Finland        81.982927\n",
      "1569                France        82.826829\n",
      "1662               Germany        81.292683\n",
      "1724                Greece        81.639024\n",
      "1972  Hong Kong SAR, China        85.180488\n",
      "2033               Iceland        83.163415\n",
      "2152               Ireland        82.702439\n",
      "2183                Israel        82.804878\n",
      "2209                 Italy        83.497561\n",
      "2271                 Japan        84.356341\n",
      "2684            Luxembourg        82.639024\n",
      "2715      Macao SAR, China        84.978000\n",
      "2839              Maldives        80.116000\n",
      "2896                 Malta        82.858537\n",
      "3304           Netherlands        82.112195\n",
      "3335           New Zealand        82.056098\n",
      "3490                Norway        82.958537\n",
      "3790              Portugal        81.675610\n",
      "3852                 Qatar        80.990000\n",
      "4140             Singapore        83.595122\n",
      "4200              Slovenia        81.529268\n",
      "4296                 Spain        83.831707\n",
      "4513                Sweden        83.109756\n",
      "4544           Switzerland        83.904878\n",
      "4967        United Kingdom        81.404878\n"
     ]
    }
   ],
   "source": [
    "# count countries with a le of at least 80 in 2019\n",
    "# count unique values \n",
    "print('Amount of countries with a life expectancy of at least 80 in 2019:')\n",
    "gdp2019_le_80 = gdp_le_2019[gdp_le_2019['Life_Expectancy'] >= 80]['Country'].unique()\n",
    "print(len(gdp2019_le_80))\n",
    "\n",
    "# show list of countries and drop other unimportant columns\n",
    "print('\\nList of countries:')\n",
    "print(gdp_le_2019[gdp_le_2019['Life_Expectancy'] >= 80].drop(columns=['Year','GDP_Per_Capita','Continent']))"
   ]
  },
  {
   "cell_type": "markdown",
   "id": "8df326bf",
   "metadata": {},
   "source": [
    "### 26. Find the countries that had the top 3 largest GDP per capita figures for 2019. Create a seaborn FacetGrid showing the change in life expectancy over time for these three countries. Each individual figure in the facet grid will represent a single country."
   ]
  },
  {
   "cell_type": "code",
   "execution_count": 31,
   "id": "bb2c6efe",
   "metadata": {},
   "outputs": [
    {
     "name": "stdout",
     "output_type": "stream",
     "text": [
      "\n",
      "Countries with the top 3 largest GDP per capita in 2019:\n",
      "               Country  GDP_Per_Capita  Life_Expectancy\n",
      "2715  Macao SAR, China   127272.548511        84.978000\n",
      "2684        Luxembourg   116518.276815        82.639024\n",
      "4140         Singapore    98283.308908        83.595122\n"
     ]
    }
   ],
   "source": [
    "# find countries with top 3 largest GDP per capita in 2019 \n",
    "print('\\nCountries with the top 3 largest GDP per capita in 2019:')\n",
    "print(gdp_le_2019.nlargest(3, \"GDP_Per_Capita\").drop(columns=['Year','Continent']))"
   ]
  },
  {
   "cell_type": "code",
   "execution_count": 32,
   "id": "6b794058",
   "metadata": {},
   "outputs": [
    {
     "name": "stdout",
     "output_type": "stream",
     "text": [
      "         Country  Year  GDP_Per_Capita Continent  Life_Expectancy\n",
      "2683  Luxembourg  2020   112557.309472    Europe        82.143902\n",
      "2684  Luxembourg  2019   116518.276815    Europe        82.639024\n",
      "2685  Luxembourg  2018   115049.926079    Europe        82.295122\n",
      "2686  Luxembourg  2017   114985.842236    Europe        82.095122\n",
      "2687  Luxembourg  2016   116283.699681    Europe        82.685366\n",
      "...          ...   ...             ...       ...              ...\n",
      "4165   Singapore  1994    46819.522993      Asia        76.197561\n",
      "4166   Singapore  1993    43486.234224      Asia        76.046341\n",
      "4167   Singapore  1992    40014.826063      Asia        75.946341\n",
      "4168   Singapore  1991    38667.750581      Asia        75.646341\n",
      "4169   Singapore  1990    37289.751704      Asia        75.295122\n",
      "\n",
      "[93 rows x 5 columns]\n"
     ]
    }
   ],
   "source": [
    "# create a seaborn FacetGrid showing le change over time\n",
    "# note: use gdp_le\n",
    "\n",
    "# filter gdp_le dataset for top 3 countries\n",
    "interest = ['Macao SAR, China','Luxembourg','Singapore']\n",
    "top3GDP = gdp_le.loc[gdp_le['Country'].isin(interest)]\n",
    "print(top3GDP)\n"
   ]
  },
  {
   "cell_type": "code",
   "execution_count": 33,
   "id": "e35b7687",
   "metadata": {},
   "outputs": [
    {
     "name": "stdout",
     "output_type": "stream",
     "text": [
      "               Country  Year  GDP_Per_Capita Continent  Life_Expectancy\n",
      "4169         Singapore  1990    37289.751704      Asia        75.295122\n",
      "2713        Luxembourg  1990    70860.819124    Europe        75.438317\n",
      "2744  Macao SAR, China  1990    48773.043870      Asia        77.424000\n",
      "2743  Macao SAR, China  1991    49155.677943      Asia        77.904000\n",
      "2712        Luxembourg  1991    75961.668717    Europe        75.463415\n",
      "...                ...   ...             ...       ...              ...\n",
      "4140         Singapore  2019    98283.308908      Asia        83.595122\n",
      "2684        Luxembourg  2019   116518.276815    Europe        82.639024\n",
      "2714  Macao SAR, China  2020    57728.986403      Asia        85.184000\n",
      "4139         Singapore  2020    94505.636160      Asia        84.465854\n",
      "2683        Luxembourg  2020   112557.309472    Europe        82.143902\n",
      "\n",
      "[93 rows x 5 columns]\n"
     ]
    }
   ],
   "source": [
    "# change order of Year from oldest to newest\n",
    "top3GDP = top3GDP.sort_values(by='Year', ascending=True)\n",
    "print(top3GDP)"
   ]
  },
  {
   "cell_type": "code",
   "execution_count": 34,
   "id": "1acafde8",
   "metadata": {},
   "outputs": [
    {
     "data": {
      "text/plain": [
       "<seaborn.axisgrid.FacetGrid at 0x241cf7de910>"
      ]
     },
     "execution_count": 34,
     "metadata": {},
     "output_type": "execute_result"
    },
    {
     "data": {
      "image/png": "[encoded data removed]",
      "text/plain": [
       "<Figure size 900x300 with 3 Axes>"
      ]
     },
     "metadata": {},
     "output_type": "display_data"
    }
   ],
   "source": [
    "# create a FacetGrid for each country \n",
    "g = sns.FacetGrid(top3GDP, col = 'Country')\n",
    "\n",
    "# draw the plot on every facet \n",
    "g.map(sns.scatterplot, \"Year\", \"Life_Expectancy\")\n",
    "\n",
    "# customize tick marks \n",
    "g.set(xticks = ['1990', '1995', '2000', '2005', '2010', '2015', '2020'])\n",
    "\n"
   ]
  },
  {
   "cell_type": "markdown",
   "id": "ac58b2e3",
   "metadata": {},
   "source": [
    "### 27. Create a scatter plot of Life Expectancy vs GDP per Capita for the year 2019. What do you notice?\n",
    "There seems to be a positive, non-linear, medium-strength relationship between the two variables. It makes sense that countries with higher GDP per Capita would have more life expectancy amongst its residents since there would be more funding for health care and better way of life. "
   ]
  },
  {
   "cell_type": "code",
   "execution_count": 35,
   "id": "6d3b30fa",
   "metadata": {},
   "outputs": [
    {
     "data": {
      "image/png": "[encoded data removed]",
      "text/plain": [
       "<Figure size 640x480 with 1 Axes>"
      ]
     },
     "metadata": {},
     "output_type": "display_data"
    }
   ],
   "source": [
    "# create scatter plot \n",
    "plt.scatter( x = gdp_le_2019['Life_Expectancy'], y = gdp_le_2019['GDP_Per_Capita'])\n",
    "\n",
    "# customization \n",
    "plt.xlabel('Life Expectancy [in years]')\n",
    "plt.ylabel('GDP Per Capita')\n",
    "plt.title('Life Expectancy vs GDP per Capita in 2019')\n",
    "plt.grid(True, alpha = 0.5)\n",
    "plt.show()\n"
   ]
  },
  {
   "cell_type": "markdown",
   "id": "911560aa",
   "metadata": {},
   "source": [
    "### 28. Find the correlation between Life Expectancy and GDP per Capita for the year 2019. What is the meaning of this number?"
   ]
  },
  {
   "cell_type": "code",
   "execution_count": 36,
   "id": "421d29b2",
   "metadata": {},
   "outputs": [
    {
     "name": "stdout",
     "output_type": "stream",
     "text": [
      "Correlation between Life Expectancy and GDP per Capita in 2019:\n",
      "0.7261468254863794\n",
      "\n",
      "This number means that there is a somewhat strong positive relationship between Life Expectancy and GDP per Capita.\n"
     ]
    }
   ],
   "source": [
    "# calculate correlation between Life Expectancy and GDP per Capita columns\n",
    "print('Correlation between Life Expectancy and GDP per Capita in 2019:')\n",
    "print(gdp_le_2019['Life_Expectancy'].corr(gdp_le_2019['GDP_Per_Capita']))\n",
    "print('\\nThis number means that there is a somewhat strong positive relationship between Life Expectancy and GDP per Capita.')"
   ]
  },
  {
   "cell_type": "markdown",
   "id": "bffd4994",
   "metadata": {},
   "source": [
    "### 29. Add a column to gdp_le_2019 and calculate the logarithm of GDP per capita. Find the correlation between the log of GDP per capita and life expectancy. How does this compare to the calculation in the previous part? Look at a scatter plot to see if the result of this calculation makes sense."
   ]
  },
  {
   "cell_type": "code",
   "execution_count": 37,
   "id": "c3b4bc70",
   "metadata": {},
   "outputs": [
    {
     "name": "stdout",
     "output_type": "stream",
     "text": [
      "                  Country  Year  GDP_Per_Capita      Continent  \\\n",
      "1             Afghanistan  2019     2065.036235           Asia   \n",
      "20                Albania  2019    13653.201570         Europe   \n",
      "51                Algeria  2019    11521.984210         Africa   \n",
      "82                 Angola  2019     6712.021615         Africa   \n",
      "113   Antigua and Barbuda  2019    21850.133412  North America   \n",
      "...                   ...   ...             ...            ...   \n",
      "5091              Vanuatu  2019     3116.594618        Oceania   \n",
      "5122              Vietnam  2019    10134.259028           Asia   \n",
      "5153   West Bank and Gaza  2019     6245.448697           Asia   \n",
      "5180               Zambia  2019     3470.435511         Africa   \n",
      "5211             Zimbabwe  2019     2310.634802         Africa   \n",
      "\n",
      "      Life_Expectancy  \n",
      "1              63.565  \n",
      "20             79.282  \n",
      "51             76.474  \n",
      "82             62.448  \n",
      "113            78.691  \n",
      "...               ...  \n",
      "5091           69.877  \n",
      "5122           74.093  \n",
      "5153           75.241  \n",
      "5180           62.793  \n",
      "5211           61.292  \n",
      "\n",
      "[177 rows x 5 columns]\n"
     ]
    }
   ],
   "source": [
    "# add a column to gdp_le_2019\n",
    "print(gdp_le_2019)"
   ]
  },
  {
   "cell_type": "code",
   "execution_count": 38,
   "id": "f07fbd5a",
   "metadata": {},
   "outputs": [
    {
     "name": "stdout",
     "output_type": "stream",
     "text": [
      "                  Country  Year  GDP_Per_Capita      Continent  \\\n",
      "1             Afghanistan  2019     2065.036235           Asia   \n",
      "20                Albania  2019    13653.201570         Europe   \n",
      "51                Algeria  2019    11521.984210         Africa   \n",
      "82                 Angola  2019     6712.021615         Africa   \n",
      "113   Antigua and Barbuda  2019    21850.133412  North America   \n",
      "...                   ...   ...             ...            ...   \n",
      "5091              Vanuatu  2019     3116.594618        Oceania   \n",
      "5122              Vietnam  2019    10134.259028           Asia   \n",
      "5153   West Bank and Gaza  2019     6245.448697           Asia   \n",
      "5180               Zambia  2019     3470.435511         Africa   \n",
      "5211             Zimbabwe  2019     2310.634802         Africa   \n",
      "\n",
      "      Life_Expectancy   GDP_log  \n",
      "1              63.565  7.632903  \n",
      "20             79.282  9.521729  \n",
      "51             76.474  9.352012  \n",
      "82             62.448  8.811655  \n",
      "113            78.691  9.991962  \n",
      "...               ...       ...  \n",
      "5091           69.877  8.044496  \n",
      "5122           74.093  9.223677  \n",
      "5153           75.241  8.739608  \n",
      "5180           62.793  8.152035  \n",
      "5211           61.292  7.745278  \n",
      "\n",
      "[177 rows x 6 columns]\n"
     ]
    },
    {
     "name": "stderr",
     "output_type": "stream",
     "text": [
      "C:\\Users\\MJ\\AppData\\Local\\Temp\\ipykernel_6604\\3483182922.py:2: SettingWithCopyWarning: \n",
      "A value is trying to be set on a copy of a slice from a DataFrame.\n",
      "Try using .loc[row_indexer,col_indexer] = value instead\n",
      "\n",
      "See the caveats in the documentation: https://pandas.pydata.org/pandas-docs/stable/user_guide/indexing.html#returning-a-view-versus-a-copy\n",
      "  gdp_le_2019['GDP_log'] = np.log(gdp_le_2019['GDP_Per_Capita'])\n"
     ]
    }
   ],
   "source": [
    "# add a column to gdp_le_2019\n",
    "gdp_le_2019['GDP_log'] = np.log(gdp_le_2019['GDP_Per_Capita'])\n",
    "# gdp_le_2019.loc[:,'GDP_log'] = np.log(gdp_le_2019['GDP_Per_Capita']) # throws the same error \n",
    "print(gdp_le_2019)"
   ]
  },
  {
   "cell_type": "code",
   "execution_count": null,
   "id": "b758ff1c",
   "metadata": {},
   "outputs": [],
   "source": []
  }
 ],
 "metadata": {
  "kernelspec": {
   "display_name": "Python 3 (ipykernel)",
   "language": "python",
   "name": "python3"
  },
  "language_info": {
   "codemirror_mode": {
    "name": "ipython",
    "version": 3
   },
   "file_extension": ".py",
   "mimetype": "text/x-python",
   "name": "python",
   "nbconvert_exporter": "python",
   "pygments_lexer": "ipython3",
   "version": "3.11.4"
  }
 },
 "nbformat": 4,
 "nbformat_minor": 5
}
