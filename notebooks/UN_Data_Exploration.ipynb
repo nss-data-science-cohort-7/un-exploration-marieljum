{
 "cells": [
  {
   "cell_type": "markdown",
   "id": "4815b4a3",
   "metadata": {},
   "source": [
    "### Import packages "
   ]
  },
  {
   "cell_type": "code",
   "execution_count": 1,
   "id": "fa20279d",
   "metadata": {},
   "outputs": [],
   "source": [
    "import pandas as pd\n",
    "import numpy as np \n",
    "import matplotlib.pyplot as plt \n",
    "import seaborn as sns"
   ]
  },
  {
   "cell_type": "markdown",
   "id": "5b38f207",
   "metadata": {},
   "source": [
    "### 4. Using the pandas read_csv() function, read the GDP dataset into your notebook as a DataFrame called gdp_df. After reading it in, inspect the first 10 rows and then inspect the last 10 rows."
   ]
  },
  {
   "cell_type": "code",
   "execution_count": 2,
   "id": "f03016aa",
   "metadata": {},
   "outputs": [
    {
     "name": "stdout",
     "output_type": "stream",
     "text": [
      "  Country or Area  Year        Value  Value Footnotes\n",
      "0     Afghanistan  2020  1970.560169              NaN\n",
      "1     Afghanistan  2019  2065.036235              NaN\n",
      "2     Afghanistan  2018  2033.804389              NaN\n",
      "3     Afghanistan  2017  2058.400221              NaN\n",
      "4     Afghanistan  2016  2057.067978              NaN\n",
      "5     Afghanistan  2015  2068.265904              NaN\n",
      "6     Afghanistan  2014  2102.384604              NaN\n",
      "7     Afghanistan  2013  2116.465258              NaN\n",
      "8     Afghanistan  2012  2075.491614              NaN\n",
      "9     Afghanistan  2011  1904.559926              NaN\n",
      "     Country or Area  Year        Value  Value Footnotes\n",
      "7166        Zimbabwe  1999  2872.714795              NaN\n",
      "7167        Zimbabwe  1998  2915.052992              NaN\n",
      "7168        Zimbabwe  1997  2856.118188              NaN\n",
      "7169        Zimbabwe  1996  2808.558556              NaN\n",
      "7170        Zimbabwe  1995  2573.993785              NaN\n",
      "7171        Zimbabwe  1994  2603.927369              NaN\n",
      "7172        Zimbabwe  1993  2420.092791              NaN\n",
      "7173        Zimbabwe  1992  2437.152908              NaN\n",
      "7174        Zimbabwe  1991  2733.696626              NaN\n",
      "7175        Zimbabwe  1990  2652.129209              NaN\n"
     ]
    }
   ],
   "source": [
    "# read GDP dataset \n",
    "gdp_df = pd.read_csv(\"../data/gdp_per_capita.csv\")\n",
    "\n",
    "# inspect first 10 rows\n",
    "print(gdp_df.head(10))\n",
    "\n",
    "# inspect last 10 rows\n",
    "print(gdp_df.tail(10))"
   ]
  },
  {
   "cell_type": "markdown",
   "id": "2b6217e8",
   "metadata": {},
   "source": [
    "### 5. Drop the 'Value Footnotes' column, and rename the remaining columns to 'Country', 'Year', and 'GDP_Per_Capita'."
   ]
  },
  {
   "cell_type": "code",
   "execution_count": 3,
   "id": "0730f13a",
   "metadata": {},
   "outputs": [],
   "source": [
    "gdp_df = gdp_df.drop(columns=['Value Footnotes'])\n",
    "gdp_df = gdp_df.rename(columns={'Country or Area': 'Country', 'Year': 'Year', 'Value':'GDP_Per_Capita'})"
   ]
  },
  {
   "cell_type": "markdown",
   "id": "e6a77d38",
   "metadata": {},
   "source": [
    "### 6. How many rows and columns does gdp_df have? What are the data types of its columns? If any of the columns are not the expected types, figure out why and fix it.\n",
    "\n",
    "- 7176 rows \n",
    "- 3 columns \n",
    "- columns - indexes.base.Index"
   ]
  },
  {
   "cell_type": "code",
   "execution_count": 4,
   "id": "03def66e",
   "metadata": {
    "scrolled": false
   },
   "outputs": [
    {
     "name": "stdout",
     "output_type": "stream",
     "text": [
      "       Country  Year  GDP_Per_Capita\n",
      "0  Afghanistan  2020     1970.560169\n",
      "1  Afghanistan  2019     2065.036235\n",
      "2  Afghanistan  2018     2033.804389\n",
      "3  Afghanistan  2017     2058.400221\n",
      "4  Afghanistan  2016     2057.067978\n",
      "\n",
      "Rows:  7176\n",
      "Columns:  3\n",
      "<class 'pandas.core.indexes.range.RangeIndex'>\n",
      "<class 'pandas.core.indexes.base.Index'>\n"
     ]
    }
   ],
   "source": [
    "print(gdp_df.head())\n",
    "rows = len(gdp_df.axes[0])\n",
    "cols = len(gdp_df.axes[1])\n",
    "\n",
    "print(\"\\nRows: \", rows)\n",
    "print(\"Columns: \", cols)\n",
    "\n",
    "print(type(gdp_df.axes[0]))\n",
    "print(type(gdp_df.axes[1]))\n",
    "\n",
    "# If any of the columns are not the expected types, figure out why and fix it"
   ]
  },
  {
   "cell_type": "markdown",
   "id": "c99ca97c",
   "metadata": {},
   "source": [
    "### 7. Which years are represented in this dataset? Take a look at the number of observations per year. What do you notice?\n",
    "\n",
    "The dataset starts from year 2020 and ends at year 1990, and it appears that there's an interval of one year. But there are 7176 observations in the dataset. "
   ]
  },
  {
   "cell_type": "code",
   "execution_count": 5,
   "id": "1dcb09dc",
   "metadata": {},
   "outputs": [
    {
     "name": "stdout",
     "output_type": "stream",
     "text": [
      "0       2020\n",
      "1       2019\n",
      "2       2018\n",
      "3       2017\n",
      "4       2016\n",
      "        ... \n",
      "7171    1994\n",
      "7172    1993\n",
      "7173    1992\n",
      "7174    1991\n",
      "7175    1990\n",
      "Name: Year, Length: 7176, dtype: int64\n"
     ]
    }
   ],
   "source": [
    "print(gdp_df['Year'])"
   ]
  },
  {
   "cell_type": "markdown",
   "id": "b5c6fe27",
   "metadata": {},
   "source": [
    "### 8. How many countries are represented in this dataset? Which countries are least represented in the dataset? Why do you think these countries have so few observations?\n",
    "\n",
    "- Number of countries: 242\n",
    "- Least represented counties: Somalia and Djibouti with 8. They might have few observations because it is a third-world country with minimum resources or an unsafe government.  \n",
    "\n"
   ]
  },
  {
   "cell_type": "code",
   "execution_count": 6,
   "id": "2af6953a",
   "metadata": {},
   "outputs": [
    {
     "name": "stdout",
     "output_type": "stream",
     "text": [
      "Number of countries:  242\n",
      "\n",
      "Country counts:\n",
      "Least developed countries: UN classification    31\n",
      "Niger                                           31\n",
      "Middle East & North Africa (IDA & IBRD)         31\n",
      "Middle income                                   31\n",
      "Mongolia                                        31\n",
      "                                                ..\n",
      "Kosovo                                          13\n",
      "Turks and Caicos Islands                        10\n",
      "Sint Maarten (Dutch part)                       10\n",
      "Somalia                                          8\n",
      "Djibouti                                         8\n",
      "Name: Country, Length: 242, dtype: int64\n",
      "\n",
      "Least represented countries:\n",
      "Somalia     8\n",
      "Djibouti    8\n",
      "Name: Country, dtype: int64\n"
     ]
    }
   ],
   "source": [
    "# count how many countries are represented in dataset \n",
    "num_countries = len(gdp_df['Country'].unique())\n",
    "print(\"Number of countries: \", num_countries)\n",
    "\n",
    "# count occurrences of each country \n",
    "countries_count = gdp_df['Country'].value_counts()\n",
    "print(\"\\nCountry counts:\")\n",
    "print(countries_count)\n",
    "\n",
    "# count of least represented countries (min)\n",
    "countries_min = countries_count[countries_count == countries_count.min()]\n",
    "print(\"\\nLeast represented countries:\")\n",
    "print(countries_min)"
   ]
  },
  {
   "cell_type": "markdown",
   "id": "148784b2",
   "metadata": {},
   "source": [
    "### 9. Create a new dataframe by subsetting `gdp_df` to just the year 2014. Call this new dataframe `gdp_2014`"
   ]
  },
  {
   "cell_type": "code",
   "execution_count": 7,
   "id": "a525fe9e",
   "metadata": {},
   "outputs": [
    {
     "name": "stdout",
     "output_type": "stream",
     "text": [
      "                          Country  Year  GDP_Per_Capita\n",
      "6                     Afghanistan  2014     2102.384604\n",
      "25    Africa Eastern and Southern  2014     3677.319414\n",
      "56     Africa Western and Central  2014     4215.646000\n",
      "87                        Albania  2014    11586.833878\n",
      "118                       Algeria  2014    11512.690472\n",
      "...                           ...   ...             ...\n",
      "7031                      Vietnam  2014     7601.858491\n",
      "7062           West Bank and Gaza  2014     5967.073437\n",
      "7089                        World  2014    15224.439424\n",
      "7120                       Zambia  2014     3450.037600\n",
      "7151                     Zimbabwe  2014     2357.651166\n",
      "\n",
      "[242 rows x 3 columns]\n"
     ]
    }
   ],
   "source": [
    "gdp_2014 = gdp_df[gdp_df[\"Year\"] == 2014] ## integer so no quotation marks\n",
    "print(gdp_2014)"
   ]
  },
  {
   "cell_type": "markdown",
   "id": "87593496",
   "metadata": {},
   "source": [
    "### 10. Use .describe() to find the summary statistics for GDP per capita in 2014"
   ]
  },
  {
   "cell_type": "code",
   "execution_count": 8,
   "id": "9e10c698",
   "metadata": {},
   "outputs": [
    {
     "name": "stdout",
     "output_type": "stream",
     "text": [
      "Summary Statistics for GDP per capita in 2014:\n",
      "count       242.000000\n",
      "mean      19612.875611\n",
      "std       20961.714572\n",
      "min         822.611195\n",
      "25%        4702.212961\n",
      "50%       12178.874687\n",
      "75%       26461.384188\n",
      "max      155201.740571\n",
      "Name: GDP_Per_Capita, dtype: float64\n"
     ]
    }
   ],
   "source": [
    "# Use `.describe()` to find the summary statistics for GDP per capita in 2014.\n",
    "print('Summary Statistics for GDP per capita in 2014:')\n",
    "print(gdp_2014[\"GDP_Per_Capita\"].describe())"
   ]
  },
  {
   "cell_type": "markdown",
   "id": "d08ef84d",
   "metadata": {},
   "source": [
    "### 11. Create a histogram of GDP Per Capita numbers for 2014 (you may wish to adjust the number of bins for your histogram). How would you describe the shape of the distribution?"
   ]
  },
  {
   "cell_type": "code",
   "execution_count": 9,
   "id": "2e35f8c9",
   "metadata": {
    "scrolled": true
   },
   "outputs": [
    {
     "data": {
      "image/png": "[encoded data removed]",
      "text/plain": [
       "<Figure size 1000x700 with 1 Axes>"
      ]
     },
     "metadata": {},
     "output_type": "display_data"
    }
   ],
   "source": [
    "# create histogram plot\n",
    "hist, bins, _ = plt.hist(gdp_2014[\"GDP_Per_Capita\"], bins = 4, color = 'skyblue', edgecolor = 'black', range = (0, 160000), alpha = 0.8) #alpha = transparency\n",
    "plt.ylabel('Number of Counties')\n",
    "plt.xlabel('GDP Per Capita')\n",
    "plt.grid(True, linestyle='-.',alpha=0.5)\n",
    "\n",
    "# customize tick marks \n",
    "x_labels = [0, 40000,80000,120000,160000]\n",
    "plt.xticks(x_labels, labels = [0,'40K','80K','120K','160K'])\n",
    "\n",
    "# label the # of items in each bin \n",
    "for i in range(len(bins)-1): \n",
    "    plt.text(bins[i]+0.5,hist[i]+5, str(int(hist[i])), ha='left',va='top')\n",
    "    \n",
    "# change the size of histogram to fit bin labels\n",
    "plt.gcf().set_size_inches(10,7) # (Width, height), doesn't seem to have any changes\n",
    "\n",
    "plt.show()"
   ]
  },
  {
   "cell_type": "markdown",
   "id": "bf88662a",
   "metadata": {},
   "source": [
    "### 12. Find the top 5 countries and bottom 5 countries by GDP per capita in 2018"
   ]
  },
  {
   "cell_type": "code",
   "execution_count": 10,
   "id": "00dd4876",
   "metadata": {},
   "outputs": [
    {
     "name": "stdout",
     "output_type": "stream",
     "text": [
      "                          Country  Year  GDP_Per_Capita\n",
      "2                     Afghanistan  2018     2033.804389\n",
      "21    Africa Eastern and Southern  2018     3697.317275\n",
      "52     Africa Western and Central  2018     4132.592996\n",
      "83                        Albania  2018    13317.092313\n",
      "114                       Algeria  2018    11630.679409\n",
      "...                           ...   ...             ...\n",
      "7027                      Vietnam  2018     9548.700016\n",
      "7058           West Bank and Gaza  2018     6318.210068\n",
      "7085                        World  2018    16679.316815\n",
      "7116                       Zambia  2018     3521.545978\n",
      "7147                     Zimbabwe  2018     2497.136618\n",
      "\n",
      "[242 rows x 3 columns]\n",
      "\n",
      "Top 5 Countries by GDP per capita in 2018:\n",
      "               Country  Year  GDP_Per_Capita\n",
      "3915  Macao SAR, China  2018   132373.544079\n",
      "3884        Luxembourg  2018   115049.926079\n",
      "5722         Singapore  2018    98336.956494\n",
      "5383             Qatar  2018    90970.060902\n",
      "3073           Ireland  2018    83726.362961\n",
      "\n",
      "Bottom 5 Countries by GDP per capita in 2018:\n",
      "                       Country  Year  GDP_Per_Capita\n",
      "916                    Burundi  2018      761.524143\n",
      "1138  Central African Republic  2018      933.109951\n",
      "1526           Dem. Rep. Congo  2018     1085.893688\n",
      "5873                   Somalia  2018     1129.531464\n",
      "4752                     Niger  2018     1200.402348\n"
     ]
    }
   ],
   "source": [
    "# create new df called GDP_2018\n",
    "gdp_2018 = gdp_df[gdp_df[\"Year\"] == 2018]\n",
    "print(gdp_2018)\n",
    "\n",
    "# find top 5 countries \n",
    "top5_gdp2018 = gdp_2018.nlargest(5, \"GDP_Per_Capita\")\n",
    "print('\\nTop 5 Countries by GDP per capita in 2018:')\n",
    "print(top5_gdp2018)\n",
    "\n",
    "# find bottom 5 countries \n",
    "bottom5_gdp2018 = gdp_2018.nsmallest(5, \"GDP_Per_Capita\")\n",
    "print('\\nBottom 5 Countries by GDP per capita in 2018:')\n",
    "print(bottom5_gdp2018)"
   ]
  },
  {
   "cell_type": "markdown",
   "id": "f5821f67",
   "metadata": {},
   "source": [
    "### 13. Now, return to the full dataset, gdp_df. Pivot the data for 1990 and 2018 (using the pandas .pivot_table() method or another method) so that each row corresponds to a country, each column corresponds to a year, and the values in the table give the GDP_Per_Capita amount. Drop any rows that are missing values for either 1990 or 2018. Save the result to a dataframe named gdp_pivoted."
   ]
  },
  {
   "cell_type": "code",
   "execution_count": 11,
   "id": "28b81dda",
   "metadata": {},
   "outputs": [
    {
     "name": "stdout",
     "output_type": "stream",
     "text": [
      "                          Country  Year  GDP_Per_Capita\n",
      "2                     Afghanistan  2018     2033.804389\n",
      "21    Africa Eastern and Southern  2018     3697.317275\n",
      "49    Africa Eastern and Southern  1990     3083.976800\n",
      "52     Africa Western and Central  2018     4132.592996\n",
      "80     Africa Western and Central  1990     2810.341129\n",
      "...                           ...   ...             ...\n",
      "7113                        World  1990     9704.621768\n",
      "7116                       Zambia  2018     3521.545978\n",
      "7144                       Zambia  1990     2190.181724\n",
      "7147                     Zimbabwe  2018     2497.136618\n",
      "7175                     Zimbabwe  1990     2652.129209\n",
      "\n",
      "[448 rows x 3 columns]\n",
      "Year                                1990          2018\n",
      "Country                                               \n",
      "Africa Eastern and Southern  3083.976800   3697.317275\n",
      "Africa Western and Central   2810.341129   4132.592996\n",
      "Albania                      4827.034551  13317.092313\n",
      "Algeria                      8746.340762  11630.679409\n",
      "Angola                       5758.950488   6982.129420\n",
      "...                                  ...           ...\n",
      "Vanuatu                      2855.554643   3093.086718\n",
      "Vietnam                      2066.372215   9548.700016\n",
      "World                        9704.621768  16679.316815\n",
      "Zambia                       2190.181724   3521.545978\n",
      "Zimbabwe                     2652.129209   2497.136618\n",
      "\n",
      "[206 rows x 2 columns]\n"
     ]
    }
   ],
   "source": [
    "# filter the df for 1990 amd 2018 \n",
    "gdp_filter = gdp_df[gdp_df[\"Year\"].isin([1990, 2018])]\n",
    "print(gdp_filter)\n",
    "\n",
    "# pivot data so row=country, column=yr, values=GDP\n",
    "gdp_pivoted = gdp_filter.pivot_table(index='Country',columns='Year',values='GDP_Per_Capita') #index = rows\n",
    "\n",
    "# drop any missing rows \n",
    "gdp_pivoted = gdp_pivoted.dropna(subset=[1990, 2018])\n",
    "print(gdp_pivoted)"
   ]
  },
  {
   "cell_type": "markdown",
   "id": "6d420021",
   "metadata": {},
   "source": [
    "### 14. Create a new column in gdp_pivoted named Percent_Change. This column should contain the percent change in GDP_Per_Capita from 1990 to 2018. Hint: Percent change is calculated as 100*(New Value - Old Value) / Old Value."
   ]
  },
  {
   "cell_type": "code",
   "execution_count": 12,
   "id": "7773b44e",
   "metadata": {},
   "outputs": [],
   "source": [
    "# create new column in gdp_pivoted \n",
    "# gdp_pivoted = gdp_pivoted.reset_index()\n",
    "gdp_pivoted['Percent_Change'] = 100*(gdp_pivoted[2018]-gdp_pivoted[1990])/gdp_pivoted[1990]\n"
   ]
  },
  {
   "cell_type": "code",
   "execution_count": 13,
   "id": "39524fb4",
   "metadata": {},
   "outputs": [
    {
     "name": "stdout",
     "output_type": "stream",
     "text": [
      "Year                                1990          2018  Percent_Change\n",
      "Country                                                               \n",
      "Africa Eastern and Southern  3083.976800   3697.317275       19.887973\n",
      "Africa Western and Central   2810.341129   4132.592996       47.049515\n",
      "Albania                      4827.034551  13317.092313      175.885581\n",
      "Algeria                      8746.340762  11630.679409       32.977661\n",
      "Angola                       5758.950488   6982.129420       21.239615\n",
      "...                                  ...           ...             ...\n",
      "Vanuatu                      2855.554643   3093.086718        8.318247\n",
      "Vietnam                      2066.372215   9548.700016      362.099710\n",
      "World                        9704.621768  16679.316815       71.869829\n",
      "Zambia                       2190.181724   3521.545978       60.787844\n",
      "Zimbabwe                     2652.129209   2497.136618       -5.844081\n",
      "\n",
      "[206 rows x 3 columns]\n"
     ]
    }
   ],
   "source": [
    "print(gdp_pivoted)"
   ]
  },
  {
   "cell_type": "code",
   "execution_count": 14,
   "id": "435ff63b",
   "metadata": {},
   "outputs": [
    {
     "data": {
      "text/html": [
       "<div>\n",
       "<style scoped>\n",
       "    .dataframe tbody tr th:only-of-type {\n",
       "        vertical-align: middle;\n",
       "    }\n",
       "\n",
       "    .dataframe tbody tr th {\n",
       "        vertical-align: top;\n",
       "    }\n",
       "\n",
       "    .dataframe thead th {\n",
       "        text-align: right;\n",
       "    }\n",
       "</style>\n",
       "<table border=\"1\" class=\"dataframe\">\n",
       "  <thead>\n",
       "    <tr style=\"text-align: right;\">\n",
       "      <th>Year</th>\n",
       "      <th>1990</th>\n",
       "      <th>2018</th>\n",
       "      <th>Percent_Change</th>\n",
       "    </tr>\n",
       "    <tr>\n",
       "      <th>Country</th>\n",
       "      <th></th>\n",
       "      <th></th>\n",
       "      <th></th>\n",
       "    </tr>\n",
       "  </thead>\n",
       "  <tbody>\n",
       "    <tr>\n",
       "      <th>Africa Eastern and Southern</th>\n",
       "      <td>3083.976800</td>\n",
       "      <td>3697.317275</td>\n",
       "      <td>19.887973</td>\n",
       "    </tr>\n",
       "    <tr>\n",
       "      <th>Africa Western and Central</th>\n",
       "      <td>2810.341129</td>\n",
       "      <td>4132.592996</td>\n",
       "      <td>47.049515</td>\n",
       "    </tr>\n",
       "    <tr>\n",
       "      <th>Albania</th>\n",
       "      <td>4827.034551</td>\n",
       "      <td>13317.092313</td>\n",
       "      <td>175.885581</td>\n",
       "    </tr>\n",
       "    <tr>\n",
       "      <th>Algeria</th>\n",
       "      <td>8746.340762</td>\n",
       "      <td>11630.679409</td>\n",
       "      <td>32.977661</td>\n",
       "    </tr>\n",
       "    <tr>\n",
       "      <th>Angola</th>\n",
       "      <td>5758.950488</td>\n",
       "      <td>6982.129420</td>\n",
       "      <td>21.239615</td>\n",
       "    </tr>\n",
       "    <tr>\n",
       "      <th>...</th>\n",
       "      <td>...</td>\n",
       "      <td>...</td>\n",
       "      <td>...</td>\n",
       "    </tr>\n",
       "    <tr>\n",
       "      <th>Vanuatu</th>\n",
       "      <td>2855.554643</td>\n",
       "      <td>3093.086718</td>\n",
       "      <td>8.318247</td>\n",
       "    </tr>\n",
       "    <tr>\n",
       "      <th>Vietnam</th>\n",
       "      <td>2066.372215</td>\n",
       "      <td>9548.700016</td>\n",
       "      <td>362.099710</td>\n",
       "    </tr>\n",
       "    <tr>\n",
       "      <th>World</th>\n",
       "      <td>9704.621768</td>\n",
       "      <td>16679.316815</td>\n",
       "      <td>71.869829</td>\n",
       "    </tr>\n",
       "    <tr>\n",
       "      <th>Zambia</th>\n",
       "      <td>2190.181724</td>\n",
       "      <td>3521.545978</td>\n",
       "      <td>60.787844</td>\n",
       "    </tr>\n",
       "    <tr>\n",
       "      <th>Zimbabwe</th>\n",
       "      <td>2652.129209</td>\n",
       "      <td>2497.136618</td>\n",
       "      <td>-5.844081</td>\n",
       "    </tr>\n",
       "  </tbody>\n",
       "</table>\n",
       "<p>206 rows × 3 columns</p>\n",
       "</div>"
      ],
      "text/plain": [
       "Year                                1990          2018  Percent_Change\n",
       "Country                                                               \n",
       "Africa Eastern and Southern  3083.976800   3697.317275       19.887973\n",
       "Africa Western and Central   2810.341129   4132.592996       47.049515\n",
       "Albania                      4827.034551  13317.092313      175.885581\n",
       "Algeria                      8746.340762  11630.679409       32.977661\n",
       "Angola                       5758.950488   6982.129420       21.239615\n",
       "...                                  ...           ...             ...\n",
       "Vanuatu                      2855.554643   3093.086718        8.318247\n",
       "Vietnam                      2066.372215   9548.700016      362.099710\n",
       "World                        9704.621768  16679.316815       71.869829\n",
       "Zambia                       2190.181724   3521.545978       60.787844\n",
       "Zimbabwe                     2652.129209   2497.136618       -5.844081\n",
       "\n",
       "[206 rows x 3 columns]"
      ]
     },
     "execution_count": 14,
     "metadata": {},
     "output_type": "execute_result"
    }
   ],
   "source": [
    "gdp_pivoted"
   ]
  },
  {
   "cell_type": "markdown",
   "id": "4fda674b",
   "metadata": {},
   "source": [
    "### 15. How many countries experienced a negative percent change in GDP per capita from 1990 to 2018?"
   ]
  },
  {
   "cell_type": "code",
   "execution_count": 15,
   "id": "7b0984a8",
   "metadata": {},
   "outputs": [
    {
     "name": "stdout",
     "output_type": "stream",
     "text": [
      "Number of countries that experienced a negative percent change in GDP:\n",
      "17\n"
     ]
    }
   ],
   "source": [
    "neg_change = (gdp_pivoted['Percent_Change'] < 0).sum()\n",
    "print('Number of countries that experienced a negative percent change in GDP:')\n",
    "print(neg_change)\n",
    "\n",
    "# len(gdp_df['Country'].unique())"
   ]
  },
  {
   "cell_type": "markdown",
   "id": "2c11407c",
   "metadata": {},
   "source": [
    "### 16. Which country had the highest % change in GDP per capita? Create a line plot showing this country's GDP per capita for all years from 1990 to 2018. Create another showing the country with the second highest % change in GDP. How do the trends in these countries compare?\n",
    "Bonus: Put both line charts on the same plot."
   ]
  },
  {
   "cell_type": "code",
   "execution_count": 28,
   "id": "8e004fdd",
   "metadata": {},
   "outputs": [
    {
     "name": "stdout",
     "output_type": "stream",
     "text": [
      "\n",
      "Top 5 Countries with High Percent Change in GDP per capita:\n",
      "Year                      1990          2018  Percent_Change\n",
      "Country                                                     \n",
      "Equatorial Guinea  1039.985049  20386.013868     1860.221820\n",
      "China              1423.896348  15133.995618      962.857956\n",
      "                Country  Year  GDP_Per_Capita\n",
      "1875  Equatorial Guinea  2018    20386.013868\n",
      "1876  Equatorial Guinea  2017    22550.958161\n",
      "1877  Equatorial Guinea  2016    24827.032116\n",
      "1878  Equatorial Guinea  2015    28313.433159\n",
      "1879  Equatorial Guinea  2014    32436.553501\n",
      "1880  Equatorial Guinea  2013    33678.737836\n",
      "1881  Equatorial Guinea  2012    36671.357436\n",
      "1882  Equatorial Guinea  2011    35377.736492\n",
      "1883  Equatorial Guinea  2010    34732.219150\n",
      "1884  Equatorial Guinea  2009    39914.175309\n",
      "1885  Equatorial Guinea  2008    41249.486579\n",
      "1886  Equatorial Guinea  2007    36685.343353\n",
      "1887  Equatorial Guinea  2006    33330.890572\n",
      "1888  Equatorial Guinea  2005    32390.207436\n",
      "1889  Equatorial Guinea  2004    29004.186721\n",
      "1890  Equatorial Guinea  2003    21944.505663\n",
      "1891  Equatorial Guinea  2002    20084.343008\n",
      "1892  Equatorial Guinea  2001    17523.545157\n",
      "1893  Equatorial Guinea  2000    11176.518959\n",
      "1894  Equatorial Guinea  1999     9851.275584\n",
      "1895  Equatorial Guinea  1998     8165.994032\n",
      "1896  Equatorial Guinea  1997     6868.493172\n",
      "1897  Equatorial Guinea  1996     2857.502271\n",
      "1898  Equatorial Guinea  1995     1781.264878\n",
      "1899  Equatorial Guinea  1994     1572.062326\n",
      "1900  Equatorial Guinea  1993     1395.403468\n",
      "1901  Equatorial Guinea  1992     1299.925476\n",
      "1902  Equatorial Guinea  1991      996.878344\n",
      "1903  Equatorial Guinea  1990     1039.985049\n",
      "     Country  Year  GDP_Per_Capita\n",
      "1262   China  2018    15133.995618\n",
      "1263   China  2017    14243.532611\n",
      "1264   China  2016    13399.137320\n",
      "1265   China  2015    12612.351651\n",
      "1266   China  2014    11851.404218\n",
      "1267   China  2013    11101.938930\n",
      "1268   China  2012    10370.726572\n",
      "1269   China  2011     9680.097700\n",
      "1270   China  2010     8884.588031\n",
      "1271   China  2009     8069.354638\n",
      "1272   China  2008     7412.874363\n",
      "1273   China  2007     6795.174012\n",
      "1274   China  2006     5979.781712\n",
      "1275   China  2005     5334.646639\n",
      "1276   China  2004     4817.211845\n",
      "1277   China  2003     4400.825183\n",
      "1278   China  2002     4024.355697\n",
      "1279   China  2001     3712.338132\n",
      "1280   China  2000     3451.679231\n",
      "1281   China  1999     3206.730026\n",
      "1282   China  1998     3004.427342\n",
      "1283   China  1997     2812.711135\n",
      "1284   China  1996     2601.363426\n",
      "1285   China  1995     2391.477116\n",
      "1286   China  1994     2178.924057\n",
      "1287   China  1993     1949.534268\n",
      "1288   China  1992     1731.657215\n",
      "1289   China  1991     1534.705272\n",
      "1290   China  1990     1423.896348\n"
     ]
    },
    {
     "data": {
      "image/png": "[encoded data removed]",
      "text/plain": [
       "<Figure size 640x480 with 1 Axes>"
      ]
     },
     "metadata": {},
     "output_type": "display_data"
    }
   ],
   "source": [
    "# check for top 2 countries with high % change\n",
    "high_percentchange = gdp_pivoted.nlargest(2, \"Percent_Change\")\n",
    "print('\\nTop 5 Countries with High Percent Change in GDP per capita:')\n",
    "print(high_percentchange)\n",
    "\n",
    "# filter gdp_df for country #1 and years 1990-2018\n",
    "EG = gdp_df[(gdp_df['Country'] == 'Equatorial Guinea') &  (gdp_df['Year'] >= 1990) & (gdp_df['Year'] <= 2018)]\n",
    "print(EG)\n",
    "\n",
    "# filter country #2\n",
    "China = gdp_df[(gdp_df['Country'] == 'China') &  (gdp_df['Year'] >= 1990) & (gdp_df['Year'] <= 2018)]\n",
    "print(China)\n",
    "\n",
    "# create line plot for EG \n",
    "plt.plot(EG['Year'],EG['GDP_Per_Capita'], marker='o', linestyle='-',label='Equatorial Guinea')\n",
    "plt.show\n",
    "\n",
    "# create line plot for China \n",
    "plt.plot(China['Year'],China['GDP_Per_Capita'], marker='o', linestyle='-',label='China')\n",
    "plt.show\n",
    "\n",
    "# customize line plot\n",
    "plt.title('GDP per Capita Comparison (1990-2018)')\n",
    "plt.xlabel('Year')\n",
    "plt.ylabel('GDP per Capita')\n",
    "plt.grid(True, linestyle='-.', alpha = 0.5)\n",
    "plt.legend()\n",
    "plt.show()"
   ]
  },
  {
   "cell_type": "markdown",
   "id": "65913c2f",
   "metadata": {},
   "source": [
    "### 17. Read in continents.csv contained in the data folder into a new dataframe called continents. We will be using this dataframe to add a new column to our dataset."
   ]
  },
  {
   "cell_type": "code",
   "execution_count": 32,
   "id": "ce36baa6",
   "metadata": {},
   "outputs": [],
   "source": [
    "continents = pd.read_csv(\"../data/continents.csv\")"
   ]
  },
  {
   "cell_type": "code",
   "execution_count": null,
   "id": "fd83e975",
   "metadata": {},
   "outputs": [],
   "source": []
  }
 ],
 "metadata": {
  "kernelspec": {
   "display_name": "Python 3 (ipykernel)",
   "language": "python",
   "name": "python3"
  },
  "language_info": {
   "codemirror_mode": {
    "name": "ipython",
    "version": 3
   },
   "file_extension": ".py",
   "mimetype": "text/x-python",
   "name": "python",
   "nbconvert_exporter": "python",
   "pygments_lexer": "ipython3",
   "version": "3.11.4"
  }
 },
 "nbformat": 4,
 "nbformat_minor": 5
}
