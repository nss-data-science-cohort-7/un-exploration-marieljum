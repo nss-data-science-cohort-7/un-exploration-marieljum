{
 "cells": [
  {
   "cell_type": "code",
   "execution_count": 1,
   "id": "fa8fc6dd",
   "metadata": {},
   "outputs": [],
   "source": [
    "## import packages "
   ]
  },
  {
   "cell_type": "code",
   "execution_count": 2,
   "id": "fa20279d",
   "metadata": {},
   "outputs": [],
   "source": [
    "import pandas as pd\n",
    "import numpy as np \n",
    "import matplotlib.pyplot as plt \n",
    "import seaborn as sns"
   ]
  },
  {
   "cell_type": "code",
   "execution_count": 3,
   "id": "682b3bf9",
   "metadata": {},
   "outputs": [],
   "source": [
    "## read GDP dataset  as 'gdp_df' DataFrame "
   ]
  },
  {
   "cell_type": "code",
   "execution_count": 4,
   "id": "165a878c",
   "metadata": {},
   "outputs": [],
   "source": [
    "gdp_df = pd.read_csv(\"../data/gdp_per_capita.csv\")"
   ]
  },
  {
   "cell_type": "code",
   "execution_count": 5,
   "id": "70e40736",
   "metadata": {
    "scrolled": true
   },
   "outputs": [
    {
     "data": {
      "text/html": [
       "<div>\n",
       "<style scoped>\n",
       "    .dataframe tbody tr th:only-of-type {\n",
       "        vertical-align: middle;\n",
       "    }\n",
       "\n",
       "    .dataframe tbody tr th {\n",
       "        vertical-align: top;\n",
       "    }\n",
       "\n",
       "    .dataframe thead th {\n",
       "        text-align: right;\n",
       "    }\n",
       "</style>\n",
       "<table border=\"1\" class=\"dataframe\">\n",
       "  <thead>\n",
       "    <tr style=\"text-align: right;\">\n",
       "      <th></th>\n",
       "      <th>Country or Area</th>\n",
       "      <th>Year</th>\n",
       "      <th>Value</th>\n",
       "      <th>Value Footnotes</th>\n",
       "    </tr>\n",
       "  </thead>\n",
       "  <tbody>\n",
       "    <tr>\n",
       "      <th>0</th>\n",
       "      <td>Afghanistan</td>\n",
       "      <td>2020</td>\n",
       "      <td>1970.560169</td>\n",
       "      <td>NaN</td>\n",
       "    </tr>\n",
       "    <tr>\n",
       "      <th>1</th>\n",
       "      <td>Afghanistan</td>\n",
       "      <td>2019</td>\n",
       "      <td>2065.036235</td>\n",
       "      <td>NaN</td>\n",
       "    </tr>\n",
       "    <tr>\n",
       "      <th>2</th>\n",
       "      <td>Afghanistan</td>\n",
       "      <td>2018</td>\n",
       "      <td>2033.804389</td>\n",
       "      <td>NaN</td>\n",
       "    </tr>\n",
       "    <tr>\n",
       "      <th>3</th>\n",
       "      <td>Afghanistan</td>\n",
       "      <td>2017</td>\n",
       "      <td>2058.400221</td>\n",
       "      <td>NaN</td>\n",
       "    </tr>\n",
       "    <tr>\n",
       "      <th>4</th>\n",
       "      <td>Afghanistan</td>\n",
       "      <td>2016</td>\n",
       "      <td>2057.067978</td>\n",
       "      <td>NaN</td>\n",
       "    </tr>\n",
       "    <tr>\n",
       "      <th>...</th>\n",
       "      <td>...</td>\n",
       "      <td>...</td>\n",
       "      <td>...</td>\n",
       "      <td>...</td>\n",
       "    </tr>\n",
       "    <tr>\n",
       "      <th>7171</th>\n",
       "      <td>Zimbabwe</td>\n",
       "      <td>1994</td>\n",
       "      <td>2603.927369</td>\n",
       "      <td>NaN</td>\n",
       "    </tr>\n",
       "    <tr>\n",
       "      <th>7172</th>\n",
       "      <td>Zimbabwe</td>\n",
       "      <td>1993</td>\n",
       "      <td>2420.092791</td>\n",
       "      <td>NaN</td>\n",
       "    </tr>\n",
       "    <tr>\n",
       "      <th>7173</th>\n",
       "      <td>Zimbabwe</td>\n",
       "      <td>1992</td>\n",
       "      <td>2437.152908</td>\n",
       "      <td>NaN</td>\n",
       "    </tr>\n",
       "    <tr>\n",
       "      <th>7174</th>\n",
       "      <td>Zimbabwe</td>\n",
       "      <td>1991</td>\n",
       "      <td>2733.696626</td>\n",
       "      <td>NaN</td>\n",
       "    </tr>\n",
       "    <tr>\n",
       "      <th>7175</th>\n",
       "      <td>Zimbabwe</td>\n",
       "      <td>1990</td>\n",
       "      <td>2652.129209</td>\n",
       "      <td>NaN</td>\n",
       "    </tr>\n",
       "  </tbody>\n",
       "</table>\n",
       "<p>7176 rows × 4 columns</p>\n",
       "</div>"
      ],
      "text/plain": [
       "     Country or Area  Year        Value  Value Footnotes\n",
       "0        Afghanistan  2020  1970.560169              NaN\n",
       "1        Afghanistan  2019  2065.036235              NaN\n",
       "2        Afghanistan  2018  2033.804389              NaN\n",
       "3        Afghanistan  2017  2058.400221              NaN\n",
       "4        Afghanistan  2016  2057.067978              NaN\n",
       "...              ...   ...          ...              ...\n",
       "7171        Zimbabwe  1994  2603.927369              NaN\n",
       "7172        Zimbabwe  1993  2420.092791              NaN\n",
       "7173        Zimbabwe  1992  2437.152908              NaN\n",
       "7174        Zimbabwe  1991  2733.696626              NaN\n",
       "7175        Zimbabwe  1990  2652.129209              NaN\n",
       "\n",
       "[7176 rows x 4 columns]"
      ]
     },
     "execution_count": 5,
     "metadata": {},
     "output_type": "execute_result"
    }
   ],
   "source": [
    "gdp_df"
   ]
  },
  {
   "cell_type": "code",
   "execution_count": 6,
   "id": "683678b5",
   "metadata": {},
   "outputs": [],
   "source": [
    "## inspect the first 10 rows and last 10 rows"
   ]
  },
  {
   "cell_type": "code",
   "execution_count": 7,
   "id": "f03016aa",
   "metadata": {},
   "outputs": [
    {
     "data": {
      "text/html": [
       "<div>\n",
       "<style scoped>\n",
       "    .dataframe tbody tr th:only-of-type {\n",
       "        vertical-align: middle;\n",
       "    }\n",
       "\n",
       "    .dataframe tbody tr th {\n",
       "        vertical-align: top;\n",
       "    }\n",
       "\n",
       "    .dataframe thead th {\n",
       "        text-align: right;\n",
       "    }\n",
       "</style>\n",
       "<table border=\"1\" class=\"dataframe\">\n",
       "  <thead>\n",
       "    <tr style=\"text-align: right;\">\n",
       "      <th></th>\n",
       "      <th>Country or Area</th>\n",
       "      <th>Year</th>\n",
       "      <th>Value</th>\n",
       "      <th>Value Footnotes</th>\n",
       "    </tr>\n",
       "  </thead>\n",
       "  <tbody>\n",
       "    <tr>\n",
       "      <th>0</th>\n",
       "      <td>Afghanistan</td>\n",
       "      <td>2020</td>\n",
       "      <td>1970.560169</td>\n",
       "      <td>NaN</td>\n",
       "    </tr>\n",
       "    <tr>\n",
       "      <th>1</th>\n",
       "      <td>Afghanistan</td>\n",
       "      <td>2019</td>\n",
       "      <td>2065.036235</td>\n",
       "      <td>NaN</td>\n",
       "    </tr>\n",
       "    <tr>\n",
       "      <th>2</th>\n",
       "      <td>Afghanistan</td>\n",
       "      <td>2018</td>\n",
       "      <td>2033.804389</td>\n",
       "      <td>NaN</td>\n",
       "    </tr>\n",
       "    <tr>\n",
       "      <th>3</th>\n",
       "      <td>Afghanistan</td>\n",
       "      <td>2017</td>\n",
       "      <td>2058.400221</td>\n",
       "      <td>NaN</td>\n",
       "    </tr>\n",
       "    <tr>\n",
       "      <th>4</th>\n",
       "      <td>Afghanistan</td>\n",
       "      <td>2016</td>\n",
       "      <td>2057.067978</td>\n",
       "      <td>NaN</td>\n",
       "    </tr>\n",
       "    <tr>\n",
       "      <th>5</th>\n",
       "      <td>Afghanistan</td>\n",
       "      <td>2015</td>\n",
       "      <td>2068.265904</td>\n",
       "      <td>NaN</td>\n",
       "    </tr>\n",
       "    <tr>\n",
       "      <th>6</th>\n",
       "      <td>Afghanistan</td>\n",
       "      <td>2014</td>\n",
       "      <td>2102.384604</td>\n",
       "      <td>NaN</td>\n",
       "    </tr>\n",
       "    <tr>\n",
       "      <th>7</th>\n",
       "      <td>Afghanistan</td>\n",
       "      <td>2013</td>\n",
       "      <td>2116.465258</td>\n",
       "      <td>NaN</td>\n",
       "    </tr>\n",
       "    <tr>\n",
       "      <th>8</th>\n",
       "      <td>Afghanistan</td>\n",
       "      <td>2012</td>\n",
       "      <td>2075.491614</td>\n",
       "      <td>NaN</td>\n",
       "    </tr>\n",
       "    <tr>\n",
       "      <th>9</th>\n",
       "      <td>Afghanistan</td>\n",
       "      <td>2011</td>\n",
       "      <td>1904.559926</td>\n",
       "      <td>NaN</td>\n",
       "    </tr>\n",
       "  </tbody>\n",
       "</table>\n",
       "</div>"
      ],
      "text/plain": [
       "  Country or Area  Year        Value  Value Footnotes\n",
       "0     Afghanistan  2020  1970.560169              NaN\n",
       "1     Afghanistan  2019  2065.036235              NaN\n",
       "2     Afghanistan  2018  2033.804389              NaN\n",
       "3     Afghanistan  2017  2058.400221              NaN\n",
       "4     Afghanistan  2016  2057.067978              NaN\n",
       "5     Afghanistan  2015  2068.265904              NaN\n",
       "6     Afghanistan  2014  2102.384604              NaN\n",
       "7     Afghanistan  2013  2116.465258              NaN\n",
       "8     Afghanistan  2012  2075.491614              NaN\n",
       "9     Afghanistan  2011  1904.559926              NaN"
      ]
     },
     "execution_count": 7,
     "metadata": {},
     "output_type": "execute_result"
    }
   ],
   "source": [
    "gdp_df.head(10)"
   ]
  },
  {
   "cell_type": "code",
   "execution_count": 8,
   "id": "b74c2713",
   "metadata": {},
   "outputs": [
    {
     "data": {
      "text/html": [
       "<div>\n",
       "<style scoped>\n",
       "    .dataframe tbody tr th:only-of-type {\n",
       "        vertical-align: middle;\n",
       "    }\n",
       "\n",
       "    .dataframe tbody tr th {\n",
       "        vertical-align: top;\n",
       "    }\n",
       "\n",
       "    .dataframe thead th {\n",
       "        text-align: right;\n",
       "    }\n",
       "</style>\n",
       "<table border=\"1\" class=\"dataframe\">\n",
       "  <thead>\n",
       "    <tr style=\"text-align: right;\">\n",
       "      <th></th>\n",
       "      <th>Country or Area</th>\n",
       "      <th>Year</th>\n",
       "      <th>Value</th>\n",
       "      <th>Value Footnotes</th>\n",
       "    </tr>\n",
       "  </thead>\n",
       "  <tbody>\n",
       "    <tr>\n",
       "      <th>7166</th>\n",
       "      <td>Zimbabwe</td>\n",
       "      <td>1999</td>\n",
       "      <td>2872.714795</td>\n",
       "      <td>NaN</td>\n",
       "    </tr>\n",
       "    <tr>\n",
       "      <th>7167</th>\n",
       "      <td>Zimbabwe</td>\n",
       "      <td>1998</td>\n",
       "      <td>2915.052992</td>\n",
       "      <td>NaN</td>\n",
       "    </tr>\n",
       "    <tr>\n",
       "      <th>7168</th>\n",
       "      <td>Zimbabwe</td>\n",
       "      <td>1997</td>\n",
       "      <td>2856.118188</td>\n",
       "      <td>NaN</td>\n",
       "    </tr>\n",
       "    <tr>\n",
       "      <th>7169</th>\n",
       "      <td>Zimbabwe</td>\n",
       "      <td>1996</td>\n",
       "      <td>2808.558556</td>\n",
       "      <td>NaN</td>\n",
       "    </tr>\n",
       "    <tr>\n",
       "      <th>7170</th>\n",
       "      <td>Zimbabwe</td>\n",
       "      <td>1995</td>\n",
       "      <td>2573.993785</td>\n",
       "      <td>NaN</td>\n",
       "    </tr>\n",
       "    <tr>\n",
       "      <th>7171</th>\n",
       "      <td>Zimbabwe</td>\n",
       "      <td>1994</td>\n",
       "      <td>2603.927369</td>\n",
       "      <td>NaN</td>\n",
       "    </tr>\n",
       "    <tr>\n",
       "      <th>7172</th>\n",
       "      <td>Zimbabwe</td>\n",
       "      <td>1993</td>\n",
       "      <td>2420.092791</td>\n",
       "      <td>NaN</td>\n",
       "    </tr>\n",
       "    <tr>\n",
       "      <th>7173</th>\n",
       "      <td>Zimbabwe</td>\n",
       "      <td>1992</td>\n",
       "      <td>2437.152908</td>\n",
       "      <td>NaN</td>\n",
       "    </tr>\n",
       "    <tr>\n",
       "      <th>7174</th>\n",
       "      <td>Zimbabwe</td>\n",
       "      <td>1991</td>\n",
       "      <td>2733.696626</td>\n",
       "      <td>NaN</td>\n",
       "    </tr>\n",
       "    <tr>\n",
       "      <th>7175</th>\n",
       "      <td>Zimbabwe</td>\n",
       "      <td>1990</td>\n",
       "      <td>2652.129209</td>\n",
       "      <td>NaN</td>\n",
       "    </tr>\n",
       "  </tbody>\n",
       "</table>\n",
       "</div>"
      ],
      "text/plain": [
       "     Country or Area  Year        Value  Value Footnotes\n",
       "7166        Zimbabwe  1999  2872.714795              NaN\n",
       "7167        Zimbabwe  1998  2915.052992              NaN\n",
       "7168        Zimbabwe  1997  2856.118188              NaN\n",
       "7169        Zimbabwe  1996  2808.558556              NaN\n",
       "7170        Zimbabwe  1995  2573.993785              NaN\n",
       "7171        Zimbabwe  1994  2603.927369              NaN\n",
       "7172        Zimbabwe  1993  2420.092791              NaN\n",
       "7173        Zimbabwe  1992  2437.152908              NaN\n",
       "7174        Zimbabwe  1991  2733.696626              NaN\n",
       "7175        Zimbabwe  1990  2652.129209              NaN"
      ]
     },
     "execution_count": 8,
     "metadata": {},
     "output_type": "execute_result"
    }
   ],
   "source": [
    "gdp_df.tail(10)"
   ]
  },
  {
   "cell_type": "code",
   "execution_count": 9,
   "id": "5d81bce7",
   "metadata": {},
   "outputs": [],
   "source": [
    "## drop the 'Value Footnotes' column\n",
    "## rename the remaining columns to 'Country', 'Year', and 'GDP_Per_Capita'."
   ]
  },
  {
   "cell_type": "code",
   "execution_count": 10,
   "id": "57c59e39",
   "metadata": {},
   "outputs": [],
   "source": [
    "gdp_df = gdp_df.drop(columns=['Value Footnotes'])"
   ]
  },
  {
   "cell_type": "code",
   "execution_count": 11,
   "id": "0730f13a",
   "metadata": {},
   "outputs": [],
   "source": [
    "gdp_df = gdp_df.rename(columns={'Country or Area': 'Country', 'Year': 'Year', 'Value':'GDP_Per_Capita'})"
   ]
  },
  {
   "cell_type": "markdown",
   "id": "e6a77d38",
   "metadata": {},
   "source": [
    "### How many rows and columns does gdp_df have? What are the data types of its columns? If any of the columns are not the expected types, figure out why and fix it.\n",
    "\n",
    "- 7176 rows \n",
    "- 3 columns \n",
    "- columns - indexes.base.Index"
   ]
  },
  {
   "cell_type": "code",
   "execution_count": 12,
   "id": "03def66e",
   "metadata": {
    "scrolled": false
   },
   "outputs": [
    {
     "name": "stdout",
     "output_type": "stream",
     "text": [
      "       Country  Year  GDP_Per_Capita\n",
      "0  Afghanistan  2020     1970.560169\n",
      "1  Afghanistan  2019     2065.036235\n",
      "2  Afghanistan  2018     2033.804389\n",
      "3  Afghanistan  2017     2058.400221\n",
      "4  Afghanistan  2016     2057.067978\n",
      "\n",
      "Rows:  7176\n",
      "Columns:  3\n",
      "<class 'pandas.core.indexes.range.RangeIndex'>\n",
      "<class 'pandas.core.indexes.base.Index'>\n"
     ]
    }
   ],
   "source": [
    "print(gdp_df.head())\n",
    "rows = len(gdp_df.axes[0])\n",
    "cols = len(gdp_df.axes[1])\n",
    "\n",
    "print(\"\\nRows: \", rows)\n",
    "print(\"Columns: \", cols)\n",
    "\n",
    "print(type(gdp_df.axes[0]))\n",
    "print(type(gdp_df.axes[1]))\n",
    "\n",
    "# If any of the columns are not the expected types, figure out why and fix it"
   ]
  },
  {
   "cell_type": "markdown",
   "id": "c99ca97c",
   "metadata": {},
   "source": [
    "### Which years are represented in this dataset? Take a look at the number of observations per year. What do you notice?\n",
    "\n",
    "The dataset starts from year 2020 and ends at year 1990, and it appears that there's an interval of one year. But there are 7176 observations in the dataset. "
   ]
  },
  {
   "cell_type": "code",
   "execution_count": 13,
   "id": "1dcb09dc",
   "metadata": {},
   "outputs": [
    {
     "name": "stdout",
     "output_type": "stream",
     "text": [
      "0       2020\n",
      "1       2019\n",
      "2       2018\n",
      "3       2017\n",
      "4       2016\n",
      "        ... \n",
      "7171    1994\n",
      "7172    1993\n",
      "7173    1992\n",
      "7174    1991\n",
      "7175    1990\n",
      "Name: Year, Length: 7176, dtype: int64\n"
     ]
    }
   ],
   "source": [
    "print(gdp_df['Year'])"
   ]
  },
  {
   "cell_type": "markdown",
   "id": "b5c6fe27",
   "metadata": {},
   "source": [
    "### How many countries are represented in this dataset? Which countries are least represented in the dataset? Why do you think these countries have so few observations?\n",
    "\n",
    "- Number of countries: 242\n",
    "- Least represented counties: Somalia and Djibouti with 8. They might have few observations because it is a third-world country with minimum resources or an unsafe government.  \n",
    "\n"
   ]
  },
  {
   "cell_type": "code",
   "execution_count": 14,
   "id": "2af6953a",
   "metadata": {},
   "outputs": [
    {
     "name": "stdout",
     "output_type": "stream",
     "text": [
      "Number of countries:  242\n",
      "\n",
      "Country counts:\n",
      "Least developed countries: UN classification    31\n",
      "Niger                                           31\n",
      "Middle East & North Africa (IDA & IBRD)         31\n",
      "Middle income                                   31\n",
      "Mongolia                                        31\n",
      "                                                ..\n",
      "Kosovo                                          13\n",
      "Turks and Caicos Islands                        10\n",
      "Sint Maarten (Dutch part)                       10\n",
      "Somalia                                          8\n",
      "Djibouti                                         8\n",
      "Name: Country, Length: 242, dtype: int64\n",
      "\n",
      "Least represented countries:\n",
      "Somalia     8\n",
      "Djibouti    8\n",
      "Name: Country, dtype: int64\n"
     ]
    }
   ],
   "source": [
    "# count how many countries are represented in dataset \n",
    "num_countries = len(gdp_df['Country'].unique())\n",
    "print(\"Number of countries: \", num_countries)\n",
    "\n",
    "# count occurrences of each country \n",
    "countries_count = gdp_df['Country'].value_counts()\n",
    "print(\"\\nCountry counts:\")\n",
    "print(countries_count)\n",
    "\n",
    "# count of least represented countries (min)\n",
    "countries_min = countries_count[countries_count == countries_count.min()]\n",
    "print(\"\\nLeast represented countries:\")\n",
    "print(countries_min)"
   ]
  },
  {
   "cell_type": "code",
   "execution_count": 15,
   "id": "a17a0c60",
   "metadata": {},
   "outputs": [],
   "source": [
    "# create a new dataframe by subsetting `gdp_df` to just the year 2014. Call this new dataframe `gdp_2014`."
   ]
  },
  {
   "cell_type": "code",
   "execution_count": 16,
   "id": "a525fe9e",
   "metadata": {},
   "outputs": [
    {
     "name": "stdout",
     "output_type": "stream",
     "text": [
      "                          Country  Year  GDP_Per_Capita\n",
      "6                     Afghanistan  2014     2102.384604\n",
      "25    Africa Eastern and Southern  2014     3677.319414\n",
      "56     Africa Western and Central  2014     4215.646000\n",
      "87                        Albania  2014    11586.833878\n",
      "118                       Algeria  2014    11512.690472\n",
      "...                           ...   ...             ...\n",
      "7031                      Vietnam  2014     7601.858491\n",
      "7062           West Bank and Gaza  2014     5967.073437\n",
      "7089                        World  2014    15224.439424\n",
      "7120                       Zambia  2014     3450.037600\n",
      "7151                     Zimbabwe  2014     2357.651166\n",
      "\n",
      "[242 rows x 3 columns]\n"
     ]
    }
   ],
   "source": [
    "gdp_2014 = gdp_df[gdp_df[\"Year\"] == 2014] ## integer so no quotation marks\n",
    "print(gdp_2014)"
   ]
  },
  {
   "cell_type": "code",
   "execution_count": 17,
   "id": "9e10c698",
   "metadata": {},
   "outputs": [
    {
     "name": "stdout",
     "output_type": "stream",
     "text": [
      "count       242.000000\n",
      "mean      19612.875611\n",
      "std       20961.714572\n",
      "min         822.611195\n",
      "25%        4702.212961\n",
      "50%       12178.874687\n",
      "75%       26461.384188\n",
      "max      155201.740571\n",
      "Name: GDP_Per_Capita, dtype: float64\n"
     ]
    }
   ],
   "source": [
    "# Use `.describe()` to find the summary statistics for GDP per capita in 2014.\n",
    "\n",
    "print(gdp_2014[\"GDP_Per_Capita\"].describe())"
   ]
  },
  {
   "cell_type": "markdown",
   "id": "d08ef84d",
   "metadata": {},
   "source": [
    "### Create a histogram of GDP Per Capita numbers for 2014 (you may wish to adjust the number of bins for your histogram). How would you describe the shape of the distribution?"
   ]
  },
  {
   "cell_type": "code",
   "execution_count": 66,
   "id": "2e35f8c9",
   "metadata": {},
   "outputs": [
    {
     "data": {
      "image/png": "[encoded data removed]",
      "text/plain": [
       "<Figure size 640x480 with 1 Axes>"
      ]
     },
     "metadata": {},
     "output_type": "display_data"
    }
   ],
   "source": [
    "# create histogram plot\n",
    "hist, bins, _ = plt.hist(gdp_2014[\"GDP_Per_Capita\"], bins = 4, color = 'skyblue', edgecolor = 'black', range = (0, 160000), alpha = 0.8) #alpha = transparency\n",
    "plt.ylabel('Number of Counties')\n",
    "plt.xlabel('GDP Per Capita')\n",
    "plt.grid(True, linestyle='-.',alpha=0.5)\n",
    "\n",
    "# customize tick marks \n",
    "x_labels = [0, 40000,80000,120000,160000]\n",
    "plt.xticks(x_labels, labels = [0,'40K','80K','120K','160K'])\n",
    "\n",
    "# label the # of items in each bin \n",
    "for i in range(len(bins)-1): \n",
    "    plt.text(bins[i]+0.5,hist[i]+5, str(int(hist[i])), ha='left',va='bottom')\n",
    "    \n",
    "# change the size of histogram to fit bin labels\n",
    "# plt.figure(figsize=(10,40)) # (Width, height), doesn't seem to have any changes\n",
    "\n",
    "plt.show()"
   ]
  },
  {
   "cell_type": "code",
   "execution_count": null,
   "id": "f0fda0d3",
   "metadata": {},
   "outputs": [],
   "source": []
  },
  {
   "cell_type": "code",
   "execution_count": null,
   "id": "ecc06aa0",
   "metadata": {},
   "outputs": [],
   "source": []
  }
 ],
 "metadata": {
  "kernelspec": {
   "display_name": "Python 3 (ipykernel)",
   "language": "python",
   "name": "python3"
  },
  "language_info": {
   "codemirror_mode": {
    "name": "ipython",
    "version": 3
   },
   "file_extension": ".py",
   "mimetype": "text/x-python",
   "name": "python",
   "nbconvert_exporter": "python",
   "pygments_lexer": "ipython3",
   "version": "3.11.4"
  }
 },
 "nbformat": 4,
 "nbformat_minor": 5
}
